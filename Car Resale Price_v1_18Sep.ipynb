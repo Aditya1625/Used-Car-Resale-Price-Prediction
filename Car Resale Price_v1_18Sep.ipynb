{
 "cells": [
  {
   "cell_type": "markdown",
   "metadata": {},
   "source": [
    "# A. Objective:\n",
    "A used car dealer in UK desires to put in place an automated mechanism to estimate the resale price of a used car basis the multiple data points on the car like age, miles run, transmission type etc. \n",
    "\n",
    "The learning task is to build a predictive model capable of doing the same with as much accuracy as feasible. "
   ]
  },
  {
   "cell_type": "markdown",
   "metadata": {},
   "source": [
    "# B. Data Description:\n",
    "\n",
    "Data Source : [Kaggle](https://www.kaggle.com/adityadesai13/used-car-dataset-ford-and-mercedes)\n",
    "\n",
    "The data has 13119 rows & 9 columns. All cars belong to Mercedes brand in UK.\n",
    "\n",
    "**Feature Details** :\n",
    "\n",
    "1. **model**: the model name of the car\n",
    "\n",
    "2. **year**: the year of registration of car\n",
    "\n",
    "3. **transmission**: the transsmission type of car - Semi-Automatic, Automatic, Manual, Other\n",
    "\n",
    "4. **miles**: total miles that the car has run\n",
    "\n",
    "5. **fuelType**: type of fuel that car runs on - Diesel, Petrol, Hybrid, Other\n",
    "\n",
    "6. **tax**: the tax on car in UK pounds\n",
    "\n",
    "7. **mpg**: miles run by car per gallon of fuel\n",
    "\n",
    "8. **engineSize**: the engine size of car in litres\n",
    "\n",
    "9. **price**: the resale price of car in UK pounds - TARGET VARIABLE"
   ]
  },
  {
   "cell_type": "markdown",
   "metadata": {},
   "source": [
    "# C. Importing Required Libraries & data:"
   ]
  },
  {
   "cell_type": "code",
   "execution_count": 1,
   "metadata": {},
   "outputs": [],
   "source": [
    "import pandas as pd\n",
    "import numpy as np\n",
    "import matplotlib.pyplot as plt\n",
    "import seaborn as sns\n",
    "%matplotlib inline\n",
    "\n",
    "from sklearn.metrics import classification_report,confusion_matrix"
   ]
  },
  {
   "cell_type": "code",
   "execution_count": 2,
   "metadata": {},
   "outputs": [],
   "source": [
    "# importing the data\n",
    "merc = pd.read_csv('merc.csv')"
   ]
  },
  {
   "cell_type": "markdown",
   "metadata": {},
   "source": [
    "# D. Exploratory Data Analysis"
   ]
  },
  {
   "cell_type": "markdown",
   "metadata": {},
   "source": [
    "### D1. Exploring first 5 rows of data\n",
    "- **3 categorical features** --> 'model', 'transmission', 'fuelType'\n",
    "- **6 numerical features** --> 'year', 'price', 'miles', 'tax', 'mpg'\n",
    "- The target variable is continuous"
   ]
  },
  {
   "cell_type": "code",
   "execution_count": 3,
   "metadata": {},
   "outputs": [
    {
     "data": {
      "text/html": [
       "<div>\n",
       "<style scoped>\n",
       "    .dataframe tbody tr th:only-of-type {\n",
       "        vertical-align: middle;\n",
       "    }\n",
       "\n",
       "    .dataframe tbody tr th {\n",
       "        vertical-align: top;\n",
       "    }\n",
       "\n",
       "    .dataframe thead th {\n",
       "        text-align: right;\n",
       "    }\n",
       "</style>\n",
       "<table border=\"1\" class=\"dataframe\">\n",
       "  <thead>\n",
       "    <tr style=\"text-align: right;\">\n",
       "      <th></th>\n",
       "      <th>model</th>\n",
       "      <th>year</th>\n",
       "      <th>price</th>\n",
       "      <th>transmission</th>\n",
       "      <th>miles</th>\n",
       "      <th>fuelType</th>\n",
       "      <th>tax</th>\n",
       "      <th>mpg</th>\n",
       "      <th>engineSize</th>\n",
       "    </tr>\n",
       "  </thead>\n",
       "  <tbody>\n",
       "    <tr>\n",
       "      <td>0</td>\n",
       "      <td>SLK</td>\n",
       "      <td>2005</td>\n",
       "      <td>5200</td>\n",
       "      <td>Automatic</td>\n",
       "      <td>63000</td>\n",
       "      <td>Petrol</td>\n",
       "      <td>325</td>\n",
       "      <td>32.1</td>\n",
       "      <td>1.8</td>\n",
       "    </tr>\n",
       "    <tr>\n",
       "      <td>1</td>\n",
       "      <td>S Class</td>\n",
       "      <td>2017</td>\n",
       "      <td>34948</td>\n",
       "      <td>Automatic</td>\n",
       "      <td>27000</td>\n",
       "      <td>Hybrid</td>\n",
       "      <td>20</td>\n",
       "      <td>61.4</td>\n",
       "      <td>2.1</td>\n",
       "    </tr>\n",
       "    <tr>\n",
       "      <td>2</td>\n",
       "      <td>SL CLASS</td>\n",
       "      <td>2016</td>\n",
       "      <td>49948</td>\n",
       "      <td>Automatic</td>\n",
       "      <td>6200</td>\n",
       "      <td>Petrol</td>\n",
       "      <td>555</td>\n",
       "      <td>28.0</td>\n",
       "      <td>5.5</td>\n",
       "    </tr>\n",
       "    <tr>\n",
       "      <td>3</td>\n",
       "      <td>G Class</td>\n",
       "      <td>2016</td>\n",
       "      <td>61948</td>\n",
       "      <td>Automatic</td>\n",
       "      <td>16000</td>\n",
       "      <td>Petrol</td>\n",
       "      <td>325</td>\n",
       "      <td>30.4</td>\n",
       "      <td>4.0</td>\n",
       "    </tr>\n",
       "    <tr>\n",
       "      <td>4</td>\n",
       "      <td>G Class</td>\n",
       "      <td>2016</td>\n",
       "      <td>73948</td>\n",
       "      <td>Automatic</td>\n",
       "      <td>4000</td>\n",
       "      <td>Petrol</td>\n",
       "      <td>325</td>\n",
       "      <td>30.1</td>\n",
       "      <td>4.0</td>\n",
       "    </tr>\n",
       "  </tbody>\n",
       "</table>\n",
       "</div>"
      ],
      "text/plain": [
       "       model  year  price transmission  miles fuelType  tax   mpg  engineSize\n",
       "0        SLK  2005   5200    Automatic  63000   Petrol  325  32.1         1.8\n",
       "1    S Class  2017  34948    Automatic  27000   Hybrid   20  61.4         2.1\n",
       "2   SL CLASS  2016  49948    Automatic   6200   Petrol  555  28.0         5.5\n",
       "3    G Class  2016  61948    Automatic  16000   Petrol  325  30.4         4.0\n",
       "4    G Class  2016  73948    Automatic   4000   Petrol  325  30.1         4.0"
      ]
     },
     "execution_count": 3,
     "metadata": {},
     "output_type": "execute_result"
    }
   ],
   "source": [
    "merc.head()"
   ]
  },
  {
   "cell_type": "markdown",
   "metadata": {},
   "source": [
    "### D2. Exploring shape of dataframe & column data types\n",
    "- We note that the dataset has 9 columns and 13119 records\n",
    "- Also it is seen that the categorical columns of 'model', 'transmission & 'fuelType' have object data type"
   ]
  },
  {
   "cell_type": "code",
   "execution_count": 4,
   "metadata": {},
   "outputs": [
    {
     "name": "stdout",
     "output_type": "stream",
     "text": [
      "<class 'pandas.core.frame.DataFrame'>\n",
      "RangeIndex: 13119 entries, 0 to 13118\n",
      "Data columns (total 9 columns):\n",
      "model           13119 non-null object\n",
      "year            13119 non-null int64\n",
      "price           13119 non-null int64\n",
      "transmission    13119 non-null object\n",
      "miles           13119 non-null int64\n",
      "fuelType        13119 non-null object\n",
      "tax             13119 non-null int64\n",
      "mpg             13119 non-null float64\n",
      "engineSize      13119 non-null float64\n",
      "dtypes: float64(2), int64(4), object(3)\n",
      "memory usage: 922.6+ KB\n"
     ]
    }
   ],
   "source": [
    "merc.info()"
   ]
  },
  {
   "cell_type": "markdown",
   "metadata": {},
   "source": [
    "**Action** - Changing the data type of 'department' column to category"
   ]
  },
  {
   "cell_type": "code",
   "execution_count": 5,
   "metadata": {},
   "outputs": [],
   "source": [
    "merc['model'] = merc['model'].astype('category')\n",
    "merc['transmission'] = merc['transmission'].astype('category')\n",
    "merc['fuelType'] = merc['fuelType'].astype('category')"
   ]
  },
  {
   "cell_type": "markdown",
   "metadata": {},
   "source": [
    "### D3. Checking for duplicates\n",
    "There are 259 duplicate observations. For now, we drop them from the database. "
   ]
  },
  {
   "cell_type": "code",
   "execution_count": 6,
   "metadata": {
    "scrolled": false
   },
   "outputs": [
    {
     "data": {
      "text/plain": [
       "(12860, 9)"
      ]
     },
     "execution_count": 6,
     "metadata": {},
     "output_type": "execute_result"
    }
   ],
   "source": [
    "# dropping rows that have exactly same value for all features\n",
    "merc.drop_duplicates(inplace=True)\n",
    "\n",
    "# re-checking the dataframe's shape\n",
    "merc.shape "
   ]
  },
  {
   "cell_type": "markdown",
   "metadata": {},
   "source": [
    "### D4. Checking for any missing values\n",
    "There are no missing values in any column"
   ]
  },
  {
   "cell_type": "code",
   "execution_count": 7,
   "metadata": {},
   "outputs": [
    {
     "data": {
      "text/plain": [
       "model           0\n",
       "year            0\n",
       "price           0\n",
       "transmission    0\n",
       "miles           0\n",
       "fuelType        0\n",
       "tax             0\n",
       "mpg             0\n",
       "engineSize      0\n",
       "dtype: int64"
      ]
     },
     "execution_count": 7,
     "metadata": {},
     "output_type": "execute_result"
    }
   ],
   "source": [
    "# checking number of missing values in each column\n",
    "merc.isna().sum()"
   ]
  },
  {
   "cell_type": "markdown",
   "metadata": {},
   "source": [
    "### D5. Replacing 'year' column by 'age' of car in year 2020 (the latest year in dataset)"
   ]
  },
  {
   "cell_type": "code",
   "execution_count": 8,
   "metadata": {},
   "outputs": [
    {
     "name": "stdout",
     "output_type": "stream",
     "text": [
      "Statistical summary of numerical features of all employees: \n",
      "\n"
     ]
    },
    {
     "data": {
      "text/html": [
       "<div>\n",
       "<style scoped>\n",
       "    .dataframe tbody tr th:only-of-type {\n",
       "        vertical-align: middle;\n",
       "    }\n",
       "\n",
       "    .dataframe tbody tr th {\n",
       "        vertical-align: top;\n",
       "    }\n",
       "\n",
       "    .dataframe thead th {\n",
       "        text-align: right;\n",
       "    }\n",
       "</style>\n",
       "<table border=\"1\" class=\"dataframe\">\n",
       "  <thead>\n",
       "    <tr style=\"text-align: right;\">\n",
       "      <th></th>\n",
       "      <th>year</th>\n",
       "      <th>price</th>\n",
       "      <th>miles</th>\n",
       "      <th>tax</th>\n",
       "      <th>mpg</th>\n",
       "      <th>engineSize</th>\n",
       "    </tr>\n",
       "  </thead>\n",
       "  <tbody>\n",
       "    <tr>\n",
       "      <td>count</td>\n",
       "      <td>12860.000000</td>\n",
       "      <td>12860.000000</td>\n",
       "      <td>12860.000000</td>\n",
       "      <td>12860.000000</td>\n",
       "      <td>12860.000000</td>\n",
       "      <td>12860.000000</td>\n",
       "    </tr>\n",
       "    <tr>\n",
       "      <td>mean</td>\n",
       "      <td>2017.267963</td>\n",
       "      <td>24636.426361</td>\n",
       "      <td>22169.588336</td>\n",
       "      <td>129.843701</td>\n",
       "      <td>55.197535</td>\n",
       "      <td>2.075381</td>\n",
       "    </tr>\n",
       "    <tr>\n",
       "      <td>std</td>\n",
       "      <td>2.226127</td>\n",
       "      <td>11874.220447</td>\n",
       "      <td>21077.039295</td>\n",
       "      <td>65.580514</td>\n",
       "      <td>15.181133</td>\n",
       "      <td>0.573434</td>\n",
       "    </tr>\n",
       "    <tr>\n",
       "      <td>min</td>\n",
       "      <td>1970.000000</td>\n",
       "      <td>650.000000</td>\n",
       "      <td>1.000000</td>\n",
       "      <td>0.000000</td>\n",
       "      <td>1.100000</td>\n",
       "      <td>0.000000</td>\n",
       "    </tr>\n",
       "    <tr>\n",
       "      <td>25%</td>\n",
       "      <td>2016.000000</td>\n",
       "      <td>17309.750000</td>\n",
       "      <td>6494.000000</td>\n",
       "      <td>125.000000</td>\n",
       "      <td>45.600000</td>\n",
       "      <td>1.800000</td>\n",
       "    </tr>\n",
       "    <tr>\n",
       "      <td>50%</td>\n",
       "      <td>2018.000000</td>\n",
       "      <td>22299.000000</td>\n",
       "      <td>15448.500000</td>\n",
       "      <td>145.000000</td>\n",
       "      <td>56.500000</td>\n",
       "      <td>2.000000</td>\n",
       "    </tr>\n",
       "    <tr>\n",
       "      <td>75%</td>\n",
       "      <td>2019.000000</td>\n",
       "      <td>28971.250000</td>\n",
       "      <td>32000.000000</td>\n",
       "      <td>145.000000</td>\n",
       "      <td>64.200000</td>\n",
       "      <td>2.100000</td>\n",
       "    </tr>\n",
       "    <tr>\n",
       "      <td>max</td>\n",
       "      <td>2020.000000</td>\n",
       "      <td>159999.000000</td>\n",
       "      <td>259000.000000</td>\n",
       "      <td>580.000000</td>\n",
       "      <td>217.300000</td>\n",
       "      <td>6.200000</td>\n",
       "    </tr>\n",
       "  </tbody>\n",
       "</table>\n",
       "</div>"
      ],
      "text/plain": [
       "               year          price          miles           tax           mpg  \\\n",
       "count  12860.000000   12860.000000   12860.000000  12860.000000  12860.000000   \n",
       "mean    2017.267963   24636.426361   22169.588336    129.843701     55.197535   \n",
       "std        2.226127   11874.220447   21077.039295     65.580514     15.181133   \n",
       "min     1970.000000     650.000000       1.000000      0.000000      1.100000   \n",
       "25%     2016.000000   17309.750000    6494.000000    125.000000     45.600000   \n",
       "50%     2018.000000   22299.000000   15448.500000    145.000000     56.500000   \n",
       "75%     2019.000000   28971.250000   32000.000000    145.000000     64.200000   \n",
       "max     2020.000000  159999.000000  259000.000000    580.000000    217.300000   \n",
       "\n",
       "         engineSize  \n",
       "count  12860.000000  \n",
       "mean       2.075381  \n",
       "std        0.573434  \n",
       "min        0.000000  \n",
       "25%        1.800000  \n",
       "50%        2.000000  \n",
       "75%        2.100000  \n",
       "max        6.200000  "
      ]
     },
     "execution_count": 8,
     "metadata": {},
     "output_type": "execute_result"
    }
   ],
   "source": [
    "print('Statistical summary of numerical features of all employees: \\n')\n",
    "merc.describe()"
   ]
  },
  {
   "cell_type": "code",
   "execution_count": 9,
   "metadata": {},
   "outputs": [],
   "source": [
    "# calculating car age\n",
    "merc['age'] = 2020-merc['year']\n",
    "merc.drop('year', axis=1, inplace=True)"
   ]
  },
  {
   "cell_type": "markdown",
   "metadata": {},
   "source": [
    "### D6. Exploring statistical summary"
   ]
  },
  {
   "cell_type": "code",
   "execution_count": 10,
   "metadata": {},
   "outputs": [
    {
     "data": {
      "text/html": [
       "<div>\n",
       "<style scoped>\n",
       "    .dataframe tbody tr th:only-of-type {\n",
       "        vertical-align: middle;\n",
       "    }\n",
       "\n",
       "    .dataframe tbody tr th {\n",
       "        vertical-align: top;\n",
       "    }\n",
       "\n",
       "    .dataframe thead th {\n",
       "        text-align: right;\n",
       "    }\n",
       "</style>\n",
       "<table border=\"1\" class=\"dataframe\">\n",
       "  <thead>\n",
       "    <tr style=\"text-align: right;\">\n",
       "      <th></th>\n",
       "      <th>price</th>\n",
       "      <th>miles</th>\n",
       "      <th>tax</th>\n",
       "      <th>mpg</th>\n",
       "      <th>engineSize</th>\n",
       "      <th>age</th>\n",
       "    </tr>\n",
       "  </thead>\n",
       "  <tbody>\n",
       "    <tr>\n",
       "      <td>count</td>\n",
       "      <td>12860.000000</td>\n",
       "      <td>12860.000000</td>\n",
       "      <td>12860.000000</td>\n",
       "      <td>12860.000000</td>\n",
       "      <td>12860.000000</td>\n",
       "      <td>12860.000000</td>\n",
       "    </tr>\n",
       "    <tr>\n",
       "      <td>mean</td>\n",
       "      <td>24636.426361</td>\n",
       "      <td>22169.588336</td>\n",
       "      <td>129.843701</td>\n",
       "      <td>55.197535</td>\n",
       "      <td>2.075381</td>\n",
       "      <td>2.732037</td>\n",
       "    </tr>\n",
       "    <tr>\n",
       "      <td>std</td>\n",
       "      <td>11874.220447</td>\n",
       "      <td>21077.039295</td>\n",
       "      <td>65.580514</td>\n",
       "      <td>15.181133</td>\n",
       "      <td>0.573434</td>\n",
       "      <td>2.226127</td>\n",
       "    </tr>\n",
       "    <tr>\n",
       "      <td>min</td>\n",
       "      <td>650.000000</td>\n",
       "      <td>1.000000</td>\n",
       "      <td>0.000000</td>\n",
       "      <td>1.100000</td>\n",
       "      <td>0.000000</td>\n",
       "      <td>0.000000</td>\n",
       "    </tr>\n",
       "    <tr>\n",
       "      <td>25%</td>\n",
       "      <td>17309.750000</td>\n",
       "      <td>6494.000000</td>\n",
       "      <td>125.000000</td>\n",
       "      <td>45.600000</td>\n",
       "      <td>1.800000</td>\n",
       "      <td>1.000000</td>\n",
       "    </tr>\n",
       "    <tr>\n",
       "      <td>50%</td>\n",
       "      <td>22299.000000</td>\n",
       "      <td>15448.500000</td>\n",
       "      <td>145.000000</td>\n",
       "      <td>56.500000</td>\n",
       "      <td>2.000000</td>\n",
       "      <td>2.000000</td>\n",
       "    </tr>\n",
       "    <tr>\n",
       "      <td>75%</td>\n",
       "      <td>28971.250000</td>\n",
       "      <td>32000.000000</td>\n",
       "      <td>145.000000</td>\n",
       "      <td>64.200000</td>\n",
       "      <td>2.100000</td>\n",
       "      <td>4.000000</td>\n",
       "    </tr>\n",
       "    <tr>\n",
       "      <td>max</td>\n",
       "      <td>159999.000000</td>\n",
       "      <td>259000.000000</td>\n",
       "      <td>580.000000</td>\n",
       "      <td>217.300000</td>\n",
       "      <td>6.200000</td>\n",
       "      <td>50.000000</td>\n",
       "    </tr>\n",
       "  </tbody>\n",
       "</table>\n",
       "</div>"
      ],
      "text/plain": [
       "               price          miles           tax           mpg    engineSize  \\\n",
       "count   12860.000000   12860.000000  12860.000000  12860.000000  12860.000000   \n",
       "mean    24636.426361   22169.588336    129.843701     55.197535      2.075381   \n",
       "std     11874.220447   21077.039295     65.580514     15.181133      0.573434   \n",
       "min       650.000000       1.000000      0.000000      1.100000      0.000000   \n",
       "25%     17309.750000    6494.000000    125.000000     45.600000      1.800000   \n",
       "50%     22299.000000   15448.500000    145.000000     56.500000      2.000000   \n",
       "75%     28971.250000   32000.000000    145.000000     64.200000      2.100000   \n",
       "max    159999.000000  259000.000000    580.000000    217.300000      6.200000   \n",
       "\n",
       "                age  \n",
       "count  12860.000000  \n",
       "mean       2.732037  \n",
       "std        2.226127  \n",
       "min        0.000000  \n",
       "25%        1.000000  \n",
       "50%        2.000000  \n",
       "75%        4.000000  \n",
       "max       50.000000  "
      ]
     },
     "execution_count": 10,
     "metadata": {},
     "output_type": "execute_result"
    }
   ],
   "source": [
    "merc.describe()"
   ]
  },
  {
   "cell_type": "markdown",
   "metadata": {},
   "source": [
    "**Observations :**\n",
    "\n",
    "* **price** - The min and max values are far from nearest quartiles, indicating presence of extreme values.\n",
    "\n",
    "* **miles** - Presence of extreme values and considerable skewness (as median closer to quatile Q1 & median < mean)\n",
    "\n",
    "* **tax** - Presence of extreme values\n",
    "\n",
    "* **mpg**- Min value is 1.1 which seems to be an error. Presence of extreme values.\n",
    "\n",
    "* **engineSize** - Min value is 0.0 which seems to be an error. Presence of extreme values.\n",
    "\n",
    "* **age** - Presence of extreme values."
   ]
  },
  {
   "cell_type": "markdown",
   "metadata": {},
   "source": [
    "**Addressing engine size=0**"
   ]
  },
  {
   "cell_type": "code",
   "execution_count": 11,
   "metadata": {},
   "outputs": [
    {
     "data": {
      "text/html": [
       "<div>\n",
       "<style scoped>\n",
       "    .dataframe tbody tr th:only-of-type {\n",
       "        vertical-align: middle;\n",
       "    }\n",
       "\n",
       "    .dataframe tbody tr th {\n",
       "        vertical-align: top;\n",
       "    }\n",
       "\n",
       "    .dataframe thead th {\n",
       "        text-align: right;\n",
       "    }\n",
       "</style>\n",
       "<table border=\"1\" class=\"dataframe\">\n",
       "  <thead>\n",
       "    <tr style=\"text-align: right;\">\n",
       "      <th></th>\n",
       "      <th>model</th>\n",
       "      <th>price</th>\n",
       "      <th>transmission</th>\n",
       "      <th>miles</th>\n",
       "      <th>fuelType</th>\n",
       "      <th>tax</th>\n",
       "      <th>mpg</th>\n",
       "      <th>engineSize</th>\n",
       "      <th>age</th>\n",
       "    </tr>\n",
       "  </thead>\n",
       "  <tbody>\n",
       "    <tr>\n",
       "      <td>9618</td>\n",
       "      <td>A Class</td>\n",
       "      <td>17500</td>\n",
       "      <td>Automatic</td>\n",
       "      <td>29712</td>\n",
       "      <td>Diesel</td>\n",
       "      <td>20</td>\n",
       "      <td>68.9</td>\n",
       "      <td>0.0</td>\n",
       "      <td>4</td>\n",
       "    </tr>\n",
       "    <tr>\n",
       "      <td>9619</td>\n",
       "      <td>A Class</td>\n",
       "      <td>20500</td>\n",
       "      <td>Automatic</td>\n",
       "      <td>13386</td>\n",
       "      <td>Petrol</td>\n",
       "      <td>145</td>\n",
       "      <td>53.3</td>\n",
       "      <td>0.0</td>\n",
       "      <td>2</td>\n",
       "    </tr>\n",
       "    <tr>\n",
       "      <td>9621</td>\n",
       "      <td>A Class</td>\n",
       "      <td>18000</td>\n",
       "      <td>Automatic</td>\n",
       "      <td>18347</td>\n",
       "      <td>Diesel</td>\n",
       "      <td>150</td>\n",
       "      <td>65.7</td>\n",
       "      <td>0.0</td>\n",
       "      <td>2</td>\n",
       "    </tr>\n",
       "    <tr>\n",
       "      <td>9650</td>\n",
       "      <td>GLA Class</td>\n",
       "      <td>18700</td>\n",
       "      <td>Other</td>\n",
       "      <td>30895</td>\n",
       "      <td>Other</td>\n",
       "      <td>125</td>\n",
       "      <td>56.5</td>\n",
       "      <td>0.0</td>\n",
       "      <td>4</td>\n",
       "    </tr>\n",
       "    <tr>\n",
       "      <td>9654</td>\n",
       "      <td>A Class</td>\n",
       "      <td>17800</td>\n",
       "      <td>Automatic</td>\n",
       "      <td>21913</td>\n",
       "      <td>Diesel</td>\n",
       "      <td>20</td>\n",
       "      <td>68.9</td>\n",
       "      <td>0.0</td>\n",
       "      <td>4</td>\n",
       "    </tr>\n",
       "    <tr>\n",
       "      <td>10675</td>\n",
       "      <td>SL CLASS</td>\n",
       "      <td>16500</td>\n",
       "      <td>Automatic</td>\n",
       "      <td>26955</td>\n",
       "      <td>Diesel</td>\n",
       "      <td>30</td>\n",
       "      <td>70.6</td>\n",
       "      <td>0.0</td>\n",
       "      <td>4</td>\n",
       "    </tr>\n",
       "    <tr>\n",
       "      <td>10710</td>\n",
       "      <td>A Class</td>\n",
       "      <td>17500</td>\n",
       "      <td>Automatic</td>\n",
       "      <td>19796</td>\n",
       "      <td>Diesel</td>\n",
       "      <td>145</td>\n",
       "      <td>74.3</td>\n",
       "      <td>0.0</td>\n",
       "      <td>2</td>\n",
       "    </tr>\n",
       "    <tr>\n",
       "      <td>10739</td>\n",
       "      <td>GLA Class</td>\n",
       "      <td>16000</td>\n",
       "      <td>Manual</td>\n",
       "      <td>34635</td>\n",
       "      <td>Diesel</td>\n",
       "      <td>30</td>\n",
       "      <td>64.2</td>\n",
       "      <td>0.0</td>\n",
       "      <td>3</td>\n",
       "    </tr>\n",
       "    <tr>\n",
       "      <td>10815</td>\n",
       "      <td>A Class</td>\n",
       "      <td>18000</td>\n",
       "      <td>Automatic</td>\n",
       "      <td>33282</td>\n",
       "      <td>Diesel</td>\n",
       "      <td>145</td>\n",
       "      <td>68.9</td>\n",
       "      <td>0.0</td>\n",
       "      <td>3</td>\n",
       "    </tr>\n",
       "    <tr>\n",
       "      <td>11183</td>\n",
       "      <td>E Class</td>\n",
       "      <td>22738</td>\n",
       "      <td>Automatic</td>\n",
       "      <td>24000</td>\n",
       "      <td>Diesel</td>\n",
       "      <td>150</td>\n",
       "      <td>61.4</td>\n",
       "      <td>0.0</td>\n",
       "      <td>2</td>\n",
       "    </tr>\n",
       "    <tr>\n",
       "      <td>11347</td>\n",
       "      <td>230</td>\n",
       "      <td>4500</td>\n",
       "      <td>Automatic</td>\n",
       "      <td>94000</td>\n",
       "      <td>Petrol</td>\n",
       "      <td>520</td>\n",
       "      <td>29.4</td>\n",
       "      <td>0.0</td>\n",
       "      <td>13</td>\n",
       "    </tr>\n",
       "    <tr>\n",
       "      <td>12072</td>\n",
       "      <td>M Class</td>\n",
       "      <td>24999</td>\n",
       "      <td>Automatic</td>\n",
       "      <td>14000</td>\n",
       "      <td>Diesel</td>\n",
       "      <td>305</td>\n",
       "      <td>39.2</td>\n",
       "      <td>0.0</td>\n",
       "      <td>50</td>\n",
       "    </tr>\n",
       "  </tbody>\n",
       "</table>\n",
       "</div>"
      ],
      "text/plain": [
       "            model  price transmission  miles fuelType  tax   mpg  engineSize  \\\n",
       "9618      A Class  17500    Automatic  29712   Diesel   20  68.9         0.0   \n",
       "9619      A Class  20500    Automatic  13386   Petrol  145  53.3         0.0   \n",
       "9621      A Class  18000    Automatic  18347   Diesel  150  65.7         0.0   \n",
       "9650    GLA Class  18700        Other  30895    Other  125  56.5         0.0   \n",
       "9654      A Class  17800    Automatic  21913   Diesel   20  68.9         0.0   \n",
       "10675    SL CLASS  16500    Automatic  26955   Diesel   30  70.6         0.0   \n",
       "10710     A Class  17500    Automatic  19796   Diesel  145  74.3         0.0   \n",
       "10739   GLA Class  16000       Manual  34635   Diesel   30  64.2         0.0   \n",
       "10815     A Class  18000    Automatic  33282   Diesel  145  68.9         0.0   \n",
       "11183     E Class  22738    Automatic  24000   Diesel  150  61.4         0.0   \n",
       "11347         230   4500    Automatic  94000   Petrol  520  29.4         0.0   \n",
       "12072     M Class  24999    Automatic  14000   Diesel  305  39.2         0.0   \n",
       "\n",
       "       age  \n",
       "9618     4  \n",
       "9619     2  \n",
       "9621     2  \n",
       "9650     4  \n",
       "9654     4  \n",
       "10675    4  \n",
       "10710    2  \n",
       "10739    3  \n",
       "10815    3  \n",
       "11183    2  \n",
       "11347   13  \n",
       "12072   50  "
      ]
     },
     "execution_count": 11,
     "metadata": {},
     "output_type": "execute_result"
    }
   ],
   "source": [
    "df_temp=merc[merc['engineSize']==0]\n",
    "df_temp"
   ]
  },
  {
   "cell_type": "code",
   "execution_count": 12,
   "metadata": {},
   "outputs": [
    {
     "data": {
      "text/plain": [
       "(12848, 9)"
      ]
     },
     "execution_count": 12,
     "metadata": {},
     "output_type": "execute_result"
    }
   ],
   "source": [
    "# dropping these 12 records with engine size 0\n",
    "merc=merc[merc['engineSize']!=0]\n",
    "merc.shape"
   ]
  },
  {
   "cell_type": "markdown",
   "metadata": {},
   "source": [
    "**Addressing mpg=1.1**"
   ]
  },
  {
   "cell_type": "code",
   "execution_count": 13,
   "metadata": {},
   "outputs": [
    {
     "data": {
      "text/html": [
       "<div>\n",
       "<style scoped>\n",
       "    .dataframe tbody tr th:only-of-type {\n",
       "        vertical-align: middle;\n",
       "    }\n",
       "\n",
       "    .dataframe tbody tr th {\n",
       "        vertical-align: top;\n",
       "    }\n",
       "\n",
       "    .dataframe thead th {\n",
       "        text-align: right;\n",
       "    }\n",
       "</style>\n",
       "<table border=\"1\" class=\"dataframe\">\n",
       "  <thead>\n",
       "    <tr style=\"text-align: right;\">\n",
       "      <th></th>\n",
       "      <th>model</th>\n",
       "      <th>price</th>\n",
       "      <th>transmission</th>\n",
       "      <th>miles</th>\n",
       "      <th>fuelType</th>\n",
       "      <th>tax</th>\n",
       "      <th>mpg</th>\n",
       "      <th>engineSize</th>\n",
       "      <th>age</th>\n",
       "    </tr>\n",
       "  </thead>\n",
       "  <tbody>\n",
       "    <tr>\n",
       "      <td>2524</td>\n",
       "      <td>A Class</td>\n",
       "      <td>30231</td>\n",
       "      <td>Semi-Auto</td>\n",
       "      <td>4000</td>\n",
       "      <td>Hybrid</td>\n",
       "      <td>140</td>\n",
       "      <td>1.1</td>\n",
       "      <td>1.3</td>\n",
       "      <td>0</td>\n",
       "    </tr>\n",
       "    <tr>\n",
       "      <td>6970</td>\n",
       "      <td>A Class</td>\n",
       "      <td>31500</td>\n",
       "      <td>Semi-Auto</td>\n",
       "      <td>1000</td>\n",
       "      <td>Hybrid</td>\n",
       "      <td>135</td>\n",
       "      <td>1.1</td>\n",
       "      <td>1.3</td>\n",
       "      <td>0</td>\n",
       "    </tr>\n",
       "    <tr>\n",
       "      <td>10366</td>\n",
       "      <td>A Class</td>\n",
       "      <td>33900</td>\n",
       "      <td>Automatic</td>\n",
       "      <td>345</td>\n",
       "      <td>Hybrid</td>\n",
       "      <td>140</td>\n",
       "      <td>1.1</td>\n",
       "      <td>1.3</td>\n",
       "      <td>0</td>\n",
       "    </tr>\n",
       "  </tbody>\n",
       "</table>\n",
       "</div>"
      ],
      "text/plain": [
       "          model  price transmission  miles fuelType  tax  mpg  engineSize  age\n",
       "2524    A Class  30231    Semi-Auto   4000   Hybrid  140  1.1         1.3    0\n",
       "6970    A Class  31500    Semi-Auto   1000   Hybrid  135  1.1         1.3    0\n",
       "10366   A Class  33900    Automatic    345   Hybrid  140  1.1         1.3    0"
      ]
     },
     "execution_count": 13,
     "metadata": {},
     "output_type": "execute_result"
    }
   ],
   "source": [
    "df_temp=merc[merc['mpg']==1.1]\n",
    "df_temp"
   ]
  },
  {
   "cell_type": "code",
   "execution_count": 14,
   "metadata": {},
   "outputs": [
    {
     "data": {
      "text/plain": [
       "(12845, 9)"
      ]
     },
     "execution_count": 14,
     "metadata": {},
     "output_type": "execute_result"
    }
   ],
   "source": [
    "# dropping these 3 records with mpg 1.1\n",
    "merc=merc[merc['mpg']!=1.1]\n",
    "merc.shape"
   ]
  },
  {
   "cell_type": "markdown",
   "metadata": {},
   "source": [
    "### D7. Exploring distribution of records for each feature"
   ]
  },
  {
   "cell_type": "code",
   "execution_count": 15,
   "metadata": {},
   "outputs": [
    {
     "data": {
      "image/png": "[encoded data removed]",
      "text/plain": [
       "<Figure size 1080x216 with 2 Axes>"
      ]
     },
     "metadata": {
      "needs_background": "light"
     },
     "output_type": "display_data"
    }
   ],
   "source": [
    "fig, ax = plt.subplots(1,2)\n",
    "fig.set_size_inches([15,3])\n",
    "ax[0].hist(merc[\"price\"], bins=16)\n",
    "ax[1].hist(merc[\"miles\"], bins=26)\n",
    "\n",
    "ax[0].set_xlabel(\"Price\")\n",
    "ax[1].set_xlabel(\"Miles run\")\n",
    "\n",
    "ax[0].set_xlim([0,160000])\n",
    "ax[1].set_xlim([1,260000])\n",
    "plt.tight_layout()\n",
    "plt.show()"
   ]
  },
  {
   "cell_type": "code",
   "execution_count": 16,
   "metadata": {},
   "outputs": [
    {
     "data": {
      "image/png": "[encoded data removed]",
      "text/plain": [
       "<Figure size 1080x216 with 2 Axes>"
      ]
     },
     "metadata": {
      "needs_background": "light"
     },
     "output_type": "display_data"
    }
   ],
   "source": [
    "fig, ax = plt.subplots(1,2)\n",
    "fig.set_size_inches([15,3])\n",
    "ax[0].hist(merc[\"mpg\"], bins=11)\n",
    "ax[1].hist(merc[\"engineSize\"], bins=8)\n",
    "\n",
    "ax[0].set_xlabel(\"mpg\")\n",
    "ax[1].set_xlabel(\"engineSize\")\n",
    "\n",
    "ax[0].set_xlim([0,220])\n",
    "ax[1].set_xlim([0,7])\n",
    "plt.tight_layout()\n",
    "plt.show()"
   ]
  },
  {
   "cell_type": "code",
   "execution_count": 17,
   "metadata": {},
   "outputs": [
    {
     "data": {
      "image/png": "[encoded data removed]",
      "text/plain": [
       "<Figure size 1080x216 with 2 Axes>"
      ]
     },
     "metadata": {
      "needs_background": "light"
     },
     "output_type": "display_data"
    }
   ],
   "source": [
    "fig, ax = plt.subplots(1,2)\n",
    "fig.set_size_inches([15,3])\n",
    "ax[0].hist(merc[\"tax\"], bins=29)\n",
    "ax[1].hist(merc[\"age\"], bins=25)\n",
    "\n",
    "ax[0].set_xlabel(\"tax\")\n",
    "ax[1].set_xlabel(\"age\")\n",
    "\n",
    "ax[0].set_xlim([0,600])\n",
    "ax[1].set_xlim([0,60])\n",
    "plt.tight_layout()\n",
    "plt.show()"
   ]
  },
  {
   "cell_type": "code",
   "execution_count": 18,
   "metadata": {},
   "outputs": [
    {
     "data": {
      "image/png": "[encoded data removed]",
      "text/plain": [
       "<Figure size 432x288 with 1 Axes>"
      ]
     },
     "metadata": {
      "needs_background": "light"
     },
     "output_type": "display_data"
    }
   ],
   "source": [
    "sns.catplot(x=\"transmission\",data=merc,kind=\"count\", order = ['Semi-Auto','Automatic','Manual', 'Other'], height=4, aspect=1.5)\n",
    "plt.show()"
   ]
  },
  {
   "cell_type": "code",
   "execution_count": 19,
   "metadata": {},
   "outputs": [
    {
     "data": {
      "image/png": "[encoded data removed]",
      "text/plain": [
       "<Figure size 288x288 with 1 Axes>"
      ]
     },
     "metadata": {
      "needs_background": "light"
     },
     "output_type": "display_data"
    }
   ],
   "source": [
    "sns.catplot(x=\"fuelType\",data=merc,kind=\"count\", order = ['Diesel','Petrol','Hybrid', 'Other'], height=4)\n",
    "plt.show()"
   ]
  },
  {
   "cell_type": "code",
   "execution_count": 20,
   "metadata": {},
   "outputs": [
    {
     "data": {
      "image/png": "[encoded data removed]",
      "text/plain": [
       "<Figure size 576x288 with 1 Axes>"
      ]
     },
     "metadata": {
      "needs_background": "light"
     },
     "output_type": "display_data"
    }
   ],
   "source": [
    "sns.catplot(x=\"model\",data=merc,kind=\"count\",order = merc['model'].value_counts().index, height=4, aspect=2)\n",
    "plt.xticks(rotation=90)\n",
    "plt.show()"
   ]
  },
  {
   "cell_type": "markdown",
   "metadata": {},
   "source": [
    "### D8. Exploring variation of price with features"
   ]
  },
  {
   "cell_type": "code",
   "execution_count": 21,
   "metadata": {},
   "outputs": [
    {
     "data": {
      "image/png": "[encoded data removed]",
      "text/plain": [
       "<Figure size 1080x360 with 5 Axes>"
      ]
     },
     "metadata": {
      "needs_background": "light"
     },
     "output_type": "display_data"
    }
   ],
   "source": [
    "fig, ax = plt.subplots(2, 3)\n",
    "fig.set_size_inches([15, 5])\n",
    "ax[0,0].scatter(merc[\"miles\"], merc['price'])\n",
    "ax[0,1].scatter(merc[\"tax\"], merc['price'])\n",
    "ax[0,2].scatter(merc[\"mpg\"], merc['price'])\n",
    "ax[1,0].scatter(merc[\"engineSize\"], merc['price'])\n",
    "ax[1,1].scatter(merc[\"age\"], merc['price'])\n",
    "\n",
    "ax[0,0].set_ylabel(\"Price\")\n",
    "ax[1,0].set_ylabel(\"Price\")\n",
    "\n",
    "ax[0,0].set_xlabel(\"Miles run\")\n",
    "ax[0,1].set_xlabel(\"Tax\")\n",
    "ax[0,2].set_xlabel(\"MPG\")\n",
    "ax[1,0].set_xlabel(\"Engine Size\")\n",
    "ax[1,1].set_xlabel(\"Age\")\n",
    "fig.delaxes(ax[1,2])\n",
    "plt.tight_layout()\n",
    "plt.show()"
   ]
  },
  {
   "cell_type": "markdown",
   "metadata": {},
   "source": [
    "We can see from the plots above that not all of the predictors have a perfect linear relationship with the target variable ('price' is the target variable and the rest are the predictor variables)."
   ]
  },
  {
   "cell_type": "markdown",
   "metadata": {},
   "source": [
    "### D9. Creating dummy variables for categorical variables"
   ]
  },
  {
   "cell_type": "code",
   "execution_count": 22,
   "metadata": {},
   "outputs": [
    {
     "data": {
      "text/plain": [
       "Index(['price', 'miles', 'tax', 'mpg', 'engineSize', 'age', 'model_ A Class',\n",
       "       'model_ B Class', 'model_ C Class', 'model_ CL Class',\n",
       "       'model_ CLA Class', 'model_ CLC Class', 'model_ CLK',\n",
       "       'model_ CLS Class', 'model_ E Class', 'model_ G Class',\n",
       "       'model_ GL Class', 'model_ GLA Class', 'model_ GLB Class',\n",
       "       'model_ GLC Class', 'model_ GLE Class', 'model_ GLS Class',\n",
       "       'model_ M Class', 'model_ R Class', 'model_ S Class', 'model_ SL CLASS',\n",
       "       'model_ SLK', 'model_ V Class', 'model_ X-CLASS', 'model_180',\n",
       "       'model_200', 'model_220', 'model_230', 'transmission_Automatic',\n",
       "       'transmission_Manual', 'transmission_Other', 'transmission_Semi-Auto',\n",
       "       'fuelType_Diesel', 'fuelType_Hybrid', 'fuelType_Other',\n",
       "       'fuelType_Petrol'],\n",
       "      dtype='object')"
      ]
     },
     "execution_count": 22,
     "metadata": {},
     "output_type": "execute_result"
    }
   ],
   "source": [
    "merc_dummy = pd.get_dummies(merc)\n",
    "merc_dummy.columns"
   ]
  },
  {
   "cell_type": "markdown",
   "metadata": {},
   "source": [
    "Dropping one sub-category of each of the 3 original categorical variables to avoid **dummy variable trap**   "
   ]
  },
  {
   "cell_type": "code",
   "execution_count": 23,
   "metadata": {},
   "outputs": [
    {
     "data": {
      "text/plain": [
       "(12845, 38)"
      ]
     },
     "execution_count": 23,
     "metadata": {},
     "output_type": "execute_result"
    }
   ],
   "source": [
    "merc_dummy.drop(['model_ B Class', 'transmission_Semi-Auto', 'fuelType_Petrol'], axis=1,inplace=True)\n",
    "merc_dummy.shape"
   ]
  },
  {
   "cell_type": "markdown",
   "metadata": {},
   "source": [
    "# E. Checking for multi-collinearity "
   ]
  },
  {
   "cell_type": "markdown",
   "metadata": {},
   "source": [
    "### E1. Checking pair-wise correlation between predictor variables"
   ]
  },
  {
   "cell_type": "code",
   "execution_count": 24,
   "metadata": {},
   "outputs": [
    {
     "data": {
      "text/html": [
       "<div>\n",
       "<style scoped>\n",
       "    .dataframe tbody tr th:only-of-type {\n",
       "        vertical-align: middle;\n",
       "    }\n",
       "\n",
       "    .dataframe tbody tr th {\n",
       "        vertical-align: top;\n",
       "    }\n",
       "\n",
       "    .dataframe thead th {\n",
       "        text-align: right;\n",
       "    }\n",
       "</style>\n",
       "<table border=\"1\" class=\"dataframe\">\n",
       "  <thead>\n",
       "    <tr style=\"text-align: right;\">\n",
       "      <th></th>\n",
       "      <th>miles</th>\n",
       "      <th>tax</th>\n",
       "      <th>mpg</th>\n",
       "      <th>engineSize</th>\n",
       "      <th>age</th>\n",
       "    </tr>\n",
       "  </thead>\n",
       "  <tbody>\n",
       "    <tr>\n",
       "      <td>miles</td>\n",
       "      <td>1.000000</td>\n",
       "      <td>-0.154356</td>\n",
       "      <td>0.201232</td>\n",
       "      <td>0.060432</td>\n",
       "      <td>0.750637</td>\n",
       "    </tr>\n",
       "    <tr>\n",
       "      <td>tax</td>\n",
       "      <td>-0.154356</td>\n",
       "      <td>1.000000</td>\n",
       "      <td>-0.517597</td>\n",
       "      <td>0.346459</td>\n",
       "      <td>-0.012221</td>\n",
       "    </tr>\n",
       "    <tr>\n",
       "      <td>mpg</td>\n",
       "      <td>0.201232</td>\n",
       "      <td>-0.517597</td>\n",
       "      <td>1.000000</td>\n",
       "      <td>-0.347705</td>\n",
       "      <td>0.094146</td>\n",
       "    </tr>\n",
       "    <tr>\n",
       "      <td>engineSize</td>\n",
       "      <td>0.060432</td>\n",
       "      <td>0.346459</td>\n",
       "      <td>-0.347705</td>\n",
       "      <td>1.000000</td>\n",
       "      <td>0.147577</td>\n",
       "    </tr>\n",
       "    <tr>\n",
       "      <td>age</td>\n",
       "      <td>0.750637</td>\n",
       "      <td>-0.012221</td>\n",
       "      <td>0.094146</td>\n",
       "      <td>0.147577</td>\n",
       "      <td>1.000000</td>\n",
       "    </tr>\n",
       "  </tbody>\n",
       "</table>\n",
       "</div>"
      ],
      "text/plain": [
       "               miles       tax       mpg  engineSize       age\n",
       "miles       1.000000 -0.154356  0.201232    0.060432  0.750637\n",
       "tax        -0.154356  1.000000 -0.517597    0.346459 -0.012221\n",
       "mpg         0.201232 -0.517597  1.000000   -0.347705  0.094146\n",
       "engineSize  0.060432  0.346459 -0.347705    1.000000  0.147577\n",
       "age         0.750637 -0.012221  0.094146    0.147577  1.000000"
      ]
     },
     "execution_count": 24,
     "metadata": {},
     "output_type": "execute_result"
    }
   ],
   "source": [
    "df_temp=merc.drop(['price','transmission','fuelType','model'],axis=1)\n",
    "df_temp.corr()"
   ]
  },
  {
   "cell_type": "markdown",
   "metadata": {},
   "source": [
    "**Observations**\n",
    "\n",
    "- **miles & age** - moderate +ve correlation\n",
    "- **tax & mpg** - moderate -ve correlation\n",
    "\n",
    "Next, we explore the VIF values to better understand multi-collinearity\n"
   ]
  },
  {
   "cell_type": "markdown",
   "metadata": {},
   "source": [
    "### E2. Checking VIF values to detect multi-collinearity"
   ]
  },
  {
   "cell_type": "code",
   "execution_count": 25,
   "metadata": {},
   "outputs": [
    {
     "name": "stderr",
     "output_type": "stream",
     "text": [
      "C:\\Users\\drric\\Anaconda3\\lib\\site-packages\\statsmodels\\regression\\linear_model.py:1638: RuntimeWarning: invalid value encountered in double_scalars\n",
      "  return 1 - self.ssr/self.uncentered_tss\n"
     ]
    },
    {
     "data": {
      "text/html": [
       "<div>\n",
       "<style scoped>\n",
       "    .dataframe tbody tr th:only-of-type {\n",
       "        vertical-align: middle;\n",
       "    }\n",
       "\n",
       "    .dataframe tbody tr th {\n",
       "        vertical-align: top;\n",
       "    }\n",
       "\n",
       "    .dataframe thead th {\n",
       "        text-align: right;\n",
       "    }\n",
       "</style>\n",
       "<table border=\"1\" class=\"dataframe\">\n",
       "  <thead>\n",
       "    <tr style=\"text-align: right;\">\n",
       "      <th></th>\n",
       "      <th>variables</th>\n",
       "      <th>VIF</th>\n",
       "    </tr>\n",
       "  </thead>\n",
       "  <tbody>\n",
       "    <tr>\n",
       "      <td>0</td>\n",
       "      <td>miles</td>\n",
       "      <td>5.424018</td>\n",
       "    </tr>\n",
       "    <tr>\n",
       "      <td>1</td>\n",
       "      <td>tax</td>\n",
       "      <td>7.180905</td>\n",
       "    </tr>\n",
       "    <tr>\n",
       "      <td>2</td>\n",
       "      <td>mpg</td>\n",
       "      <td>26.340422</td>\n",
       "    </tr>\n",
       "    <tr>\n",
       "      <td>3</td>\n",
       "      <td>engineSize</td>\n",
       "      <td>18.959434</td>\n",
       "    </tr>\n",
       "    <tr>\n",
       "      <td>4</td>\n",
       "      <td>age</td>\n",
       "      <td>6.980094</td>\n",
       "    </tr>\n",
       "    <tr>\n",
       "      <td>5</td>\n",
       "      <td>model_ A Class</td>\n",
       "      <td>4.749249</td>\n",
       "    </tr>\n",
       "    <tr>\n",
       "      <td>6</td>\n",
       "      <td>model_ C Class</td>\n",
       "      <td>6.760850</td>\n",
       "    </tr>\n",
       "    <tr>\n",
       "      <td>7</td>\n",
       "      <td>model_ CL Class</td>\n",
       "      <td>1.774754</td>\n",
       "    </tr>\n",
       "    <tr>\n",
       "      <td>8</td>\n",
       "      <td>model_ CLA Class</td>\n",
       "      <td>1.141263</td>\n",
       "    </tr>\n",
       "    <tr>\n",
       "      <td>9</td>\n",
       "      <td>model_ CLC Class</td>\n",
       "      <td>1.011257</td>\n",
       "    </tr>\n",
       "    <tr>\n",
       "      <td>10</td>\n",
       "      <td>model_ CLK</td>\n",
       "      <td>1.046421</td>\n",
       "    </tr>\n",
       "    <tr>\n",
       "      <td>11</td>\n",
       "      <td>model_ CLS Class</td>\n",
       "      <td>1.477569</td>\n",
       "    </tr>\n",
       "    <tr>\n",
       "      <td>12</td>\n",
       "      <td>model_ E Class</td>\n",
       "      <td>4.483484</td>\n",
       "    </tr>\n",
       "    <tr>\n",
       "      <td>13</td>\n",
       "      <td>model_ G Class</td>\n",
       "      <td>1.056135</td>\n",
       "    </tr>\n",
       "    <tr>\n",
       "      <td>14</td>\n",
       "      <td>model_ GL Class</td>\n",
       "      <td>1.224020</td>\n",
       "    </tr>\n",
       "    <tr>\n",
       "      <td>15</td>\n",
       "      <td>model_ GLA Class</td>\n",
       "      <td>2.248695</td>\n",
       "    </tr>\n",
       "    <tr>\n",
       "      <td>16</td>\n",
       "      <td>model_ GLB Class</td>\n",
       "      <td>1.027601</td>\n",
       "    </tr>\n",
       "    <tr>\n",
       "      <td>17</td>\n",
       "      <td>model_ GLC Class</td>\n",
       "      <td>2.425777</td>\n",
       "    </tr>\n",
       "    <tr>\n",
       "      <td>18</td>\n",
       "      <td>model_ GLE Class</td>\n",
       "      <td>1.910526</td>\n",
       "    </tr>\n",
       "    <tr>\n",
       "      <td>19</td>\n",
       "      <td>model_ GLS Class</td>\n",
       "      <td>1.187524</td>\n",
       "    </tr>\n",
       "    <tr>\n",
       "      <td>20</td>\n",
       "      <td>model_ M Class</td>\n",
       "      <td>1.264316</td>\n",
       "    </tr>\n",
       "    <tr>\n",
       "      <td>21</td>\n",
       "      <td>model_ R Class</td>\n",
       "      <td>1.013208</td>\n",
       "    </tr>\n",
       "    <tr>\n",
       "      <td>22</td>\n",
       "      <td>model_ S Class</td>\n",
       "      <td>1.518584</td>\n",
       "    </tr>\n",
       "    <tr>\n",
       "      <td>23</td>\n",
       "      <td>model_ SL CLASS</td>\n",
       "      <td>1.551240</td>\n",
       "    </tr>\n",
       "    <tr>\n",
       "      <td>24</td>\n",
       "      <td>model_ SLK</td>\n",
       "      <td>1.280495</td>\n",
       "    </tr>\n",
       "    <tr>\n",
       "      <td>25</td>\n",
       "      <td>model_ V Class</td>\n",
       "      <td>1.328945</td>\n",
       "    </tr>\n",
       "    <tr>\n",
       "      <td>26</td>\n",
       "      <td>model_ X-CLASS</td>\n",
       "      <td>1.191096</td>\n",
       "    </tr>\n",
       "    <tr>\n",
       "      <td>27</td>\n",
       "      <td>model_180</td>\n",
       "      <td>1.002468</td>\n",
       "    </tr>\n",
       "    <tr>\n",
       "      <td>28</td>\n",
       "      <td>model_200</td>\n",
       "      <td>1.002694</td>\n",
       "    </tr>\n",
       "    <tr>\n",
       "      <td>29</td>\n",
       "      <td>model_220</td>\n",
       "      <td>1.001914</td>\n",
       "    </tr>\n",
       "    <tr>\n",
       "      <td>30</td>\n",
       "      <td>model_230</td>\n",
       "      <td>NaN</td>\n",
       "    </tr>\n",
       "    <tr>\n",
       "      <td>31</td>\n",
       "      <td>transmission_Automatic</td>\n",
       "      <td>1.870831</td>\n",
       "    </tr>\n",
       "    <tr>\n",
       "      <td>32</td>\n",
       "      <td>transmission_Manual</td>\n",
       "      <td>1.543403</td>\n",
       "    </tr>\n",
       "    <tr>\n",
       "      <td>33</td>\n",
       "      <td>transmission_Other</td>\n",
       "      <td>1.011489</td>\n",
       "    </tr>\n",
       "    <tr>\n",
       "      <td>34</td>\n",
       "      <td>fuelType_Diesel</td>\n",
       "      <td>7.827014</td>\n",
       "    </tr>\n",
       "    <tr>\n",
       "      <td>35</td>\n",
       "      <td>fuelType_Hybrid</td>\n",
       "      <td>1.956653</td>\n",
       "    </tr>\n",
       "    <tr>\n",
       "      <td>36</td>\n",
       "      <td>fuelType_Other</td>\n",
       "      <td>1.049788</td>\n",
       "    </tr>\n",
       "  </tbody>\n",
       "</table>\n",
       "</div>"
      ],
      "text/plain": [
       "                 variables        VIF\n",
       "0                    miles   5.424018\n",
       "1                      tax   7.180905\n",
       "2                      mpg  26.340422\n",
       "3               engineSize  18.959434\n",
       "4                      age   6.980094\n",
       "5           model_ A Class   4.749249\n",
       "6           model_ C Class   6.760850\n",
       "7          model_ CL Class   1.774754\n",
       "8         model_ CLA Class   1.141263\n",
       "9         model_ CLC Class   1.011257\n",
       "10              model_ CLK   1.046421\n",
       "11        model_ CLS Class   1.477569\n",
       "12          model_ E Class   4.483484\n",
       "13          model_ G Class   1.056135\n",
       "14         model_ GL Class   1.224020\n",
       "15        model_ GLA Class   2.248695\n",
       "16        model_ GLB Class   1.027601\n",
       "17        model_ GLC Class   2.425777\n",
       "18        model_ GLE Class   1.910526\n",
       "19        model_ GLS Class   1.187524\n",
       "20          model_ M Class   1.264316\n",
       "21          model_ R Class   1.013208\n",
       "22          model_ S Class   1.518584\n",
       "23         model_ SL CLASS   1.551240\n",
       "24              model_ SLK   1.280495\n",
       "25          model_ V Class   1.328945\n",
       "26          model_ X-CLASS   1.191096\n",
       "27               model_180   1.002468\n",
       "28               model_200   1.002694\n",
       "29               model_220   1.001914\n",
       "30               model_230        NaN\n",
       "31  transmission_Automatic   1.870831\n",
       "32     transmission_Manual   1.543403\n",
       "33      transmission_Other   1.011489\n",
       "34         fuelType_Diesel   7.827014\n",
       "35         fuelType_Hybrid   1.956653\n",
       "36          fuelType_Other   1.049788"
      ]
     },
     "execution_count": 25,
     "metadata": {},
     "output_type": "execute_result"
    }
   ],
   "source": [
    "merc_num = merc_dummy.drop(['price'],axis=1)\n",
    "\n",
    "from statsmodels.stats.outliers_influence import variance_inflation_factor\n",
    "\n",
    "def calc_vif(X):\n",
    "\n",
    "    # Calculating VIF\n",
    "    vif = pd.DataFrame()\n",
    "    vif[\"variables\"] = X.columns\n",
    "    vif[\"VIF\"] = [variance_inflation_factor(X.values, i) for i in range(X.shape[1])]\n",
    "\n",
    "    return(vif)\n",
    "\n",
    "calc_vif(merc_num)"
   ]
  },
  {
   "cell_type": "code",
   "execution_count": 26,
   "metadata": {},
   "outputs": [
    {
     "data": {
      "text/html": [
       "<div>\n",
       "<style scoped>\n",
       "    .dataframe tbody tr th:only-of-type {\n",
       "        vertical-align: middle;\n",
       "    }\n",
       "\n",
       "    .dataframe tbody tr th {\n",
       "        vertical-align: top;\n",
       "    }\n",
       "\n",
       "    .dataframe thead th {\n",
       "        text-align: right;\n",
       "    }\n",
       "</style>\n",
       "<table border=\"1\" class=\"dataframe\">\n",
       "  <thead>\n",
       "    <tr style=\"text-align: right;\">\n",
       "      <th></th>\n",
       "      <th>variables</th>\n",
       "      <th>VIF</th>\n",
       "    </tr>\n",
       "  </thead>\n",
       "  <tbody>\n",
       "    <tr>\n",
       "      <td>0</td>\n",
       "      <td>miles</td>\n",
       "      <td>5.421281</td>\n",
       "    </tr>\n",
       "    <tr>\n",
       "      <td>1</td>\n",
       "      <td>tax</td>\n",
       "      <td>7.043657</td>\n",
       "    </tr>\n",
       "    <tr>\n",
       "      <td>2</td>\n",
       "      <td>engineSize</td>\n",
       "      <td>18.648611</td>\n",
       "    </tr>\n",
       "    <tr>\n",
       "      <td>3</td>\n",
       "      <td>age</td>\n",
       "      <td>6.978931</td>\n",
       "    </tr>\n",
       "    <tr>\n",
       "      <td>4</td>\n",
       "      <td>model_ A Class</td>\n",
       "      <td>3.167503</td>\n",
       "    </tr>\n",
       "    <tr>\n",
       "      <td>5</td>\n",
       "      <td>model_ C Class</td>\n",
       "      <td>4.997074</td>\n",
       "    </tr>\n",
       "    <tr>\n",
       "      <td>6</td>\n",
       "      <td>model_ CL Class</td>\n",
       "      <td>1.513918</td>\n",
       "    </tr>\n",
       "    <tr>\n",
       "      <td>7</td>\n",
       "      <td>model_ CLA Class</td>\n",
       "      <td>1.095140</td>\n",
       "    </tr>\n",
       "    <tr>\n",
       "      <td>8</td>\n",
       "      <td>model_ CLC Class</td>\n",
       "      <td>1.010610</td>\n",
       "    </tr>\n",
       "    <tr>\n",
       "      <td>9</td>\n",
       "      <td>model_ CLK</td>\n",
       "      <td>1.046381</td>\n",
       "    </tr>\n",
       "    <tr>\n",
       "      <td>10</td>\n",
       "      <td>model_ CLS Class</td>\n",
       "      <td>1.454463</td>\n",
       "    </tr>\n",
       "    <tr>\n",
       "      <td>11</td>\n",
       "      <td>model_ E Class</td>\n",
       "      <td>3.762882</td>\n",
       "    </tr>\n",
       "    <tr>\n",
       "      <td>12</td>\n",
       "      <td>model_ G Class</td>\n",
       "      <td>1.055792</td>\n",
       "    </tr>\n",
       "    <tr>\n",
       "      <td>13</td>\n",
       "      <td>model_ GL Class</td>\n",
       "      <td>1.207451</td>\n",
       "    </tr>\n",
       "    <tr>\n",
       "      <td>14</td>\n",
       "      <td>model_ GLA Class</td>\n",
       "      <td>1.925616</td>\n",
       "    </tr>\n",
       "    <tr>\n",
       "      <td>15</td>\n",
       "      <td>model_ GLB Class</td>\n",
       "      <td>1.026387</td>\n",
       "    </tr>\n",
       "    <tr>\n",
       "      <td>16</td>\n",
       "      <td>model_ GLC Class</td>\n",
       "      <td>2.295275</td>\n",
       "    </tr>\n",
       "    <tr>\n",
       "      <td>17</td>\n",
       "      <td>model_ GLE Class</td>\n",
       "      <td>1.909128</td>\n",
       "    </tr>\n",
       "    <tr>\n",
       "      <td>18</td>\n",
       "      <td>model_ GLS Class</td>\n",
       "      <td>1.186637</td>\n",
       "    </tr>\n",
       "    <tr>\n",
       "      <td>19</td>\n",
       "      <td>model_ M Class</td>\n",
       "      <td>1.263401</td>\n",
       "    </tr>\n",
       "    <tr>\n",
       "      <td>20</td>\n",
       "      <td>model_ R Class</td>\n",
       "      <td>1.012771</td>\n",
       "    </tr>\n",
       "    <tr>\n",
       "      <td>21</td>\n",
       "      <td>model_ S Class</td>\n",
       "      <td>1.509260</td>\n",
       "    </tr>\n",
       "    <tr>\n",
       "      <td>22</td>\n",
       "      <td>model_ SL CLASS</td>\n",
       "      <td>1.428513</td>\n",
       "    </tr>\n",
       "    <tr>\n",
       "      <td>23</td>\n",
       "      <td>model_ SLK</td>\n",
       "      <td>1.256202</td>\n",
       "    </tr>\n",
       "    <tr>\n",
       "      <td>24</td>\n",
       "      <td>model_ V Class</td>\n",
       "      <td>1.326938</td>\n",
       "    </tr>\n",
       "    <tr>\n",
       "      <td>25</td>\n",
       "      <td>model_ X-CLASS</td>\n",
       "      <td>1.188897</td>\n",
       "    </tr>\n",
       "    <tr>\n",
       "      <td>26</td>\n",
       "      <td>model_180</td>\n",
       "      <td>1.001806</td>\n",
       "    </tr>\n",
       "    <tr>\n",
       "      <td>27</td>\n",
       "      <td>model_200</td>\n",
       "      <td>1.002452</td>\n",
       "    </tr>\n",
       "    <tr>\n",
       "      <td>28</td>\n",
       "      <td>model_220</td>\n",
       "      <td>1.001541</td>\n",
       "    </tr>\n",
       "    <tr>\n",
       "      <td>29</td>\n",
       "      <td>model_230</td>\n",
       "      <td>NaN</td>\n",
       "    </tr>\n",
       "    <tr>\n",
       "      <td>30</td>\n",
       "      <td>transmission_Automatic</td>\n",
       "      <td>1.867279</td>\n",
       "    </tr>\n",
       "    <tr>\n",
       "      <td>31</td>\n",
       "      <td>transmission_Manual</td>\n",
       "      <td>1.487059</td>\n",
       "    </tr>\n",
       "    <tr>\n",
       "      <td>32</td>\n",
       "      <td>transmission_Other</td>\n",
       "      <td>1.011489</td>\n",
       "    </tr>\n",
       "    <tr>\n",
       "      <td>33</td>\n",
       "      <td>fuelType_Diesel</td>\n",
       "      <td>4.127933</td>\n",
       "    </tr>\n",
       "    <tr>\n",
       "      <td>34</td>\n",
       "      <td>fuelType_Hybrid</td>\n",
       "      <td>1.134251</td>\n",
       "    </tr>\n",
       "    <tr>\n",
       "      <td>35</td>\n",
       "      <td>fuelType_Other</td>\n",
       "      <td>1.007613</td>\n",
       "    </tr>\n",
       "  </tbody>\n",
       "</table>\n",
       "</div>"
      ],
      "text/plain": [
       "                 variables        VIF\n",
       "0                    miles   5.421281\n",
       "1                      tax   7.043657\n",
       "2               engineSize  18.648611\n",
       "3                      age   6.978931\n",
       "4           model_ A Class   3.167503\n",
       "5           model_ C Class   4.997074\n",
       "6          model_ CL Class   1.513918\n",
       "7         model_ CLA Class   1.095140\n",
       "8         model_ CLC Class   1.010610\n",
       "9               model_ CLK   1.046381\n",
       "10        model_ CLS Class   1.454463\n",
       "11          model_ E Class   3.762882\n",
       "12          model_ G Class   1.055792\n",
       "13         model_ GL Class   1.207451\n",
       "14        model_ GLA Class   1.925616\n",
       "15        model_ GLB Class   1.026387\n",
       "16        model_ GLC Class   2.295275\n",
       "17        model_ GLE Class   1.909128\n",
       "18        model_ GLS Class   1.186637\n",
       "19          model_ M Class   1.263401\n",
       "20          model_ R Class   1.012771\n",
       "21          model_ S Class   1.509260\n",
       "22         model_ SL CLASS   1.428513\n",
       "23              model_ SLK   1.256202\n",
       "24          model_ V Class   1.326938\n",
       "25          model_ X-CLASS   1.188897\n",
       "26               model_180   1.001806\n",
       "27               model_200   1.002452\n",
       "28               model_220   1.001541\n",
       "29               model_230        NaN\n",
       "30  transmission_Automatic   1.867279\n",
       "31     transmission_Manual   1.487059\n",
       "32      transmission_Other   1.011489\n",
       "33         fuelType_Diesel   4.127933\n",
       "34         fuelType_Hybrid   1.134251\n",
       "35          fuelType_Other   1.007613"
      ]
     },
     "execution_count": 26,
     "metadata": {},
     "output_type": "execute_result"
    }
   ],
   "source": [
    "merc_num_2 = merc_num.drop('mpg', axis=1)\n",
    "calc_vif(merc_num_2)"
   ]
  },
  {
   "cell_type": "code",
   "execution_count": 27,
   "metadata": {},
   "outputs": [
    {
     "data": {
      "text/html": [
       "<div>\n",
       "<style scoped>\n",
       "    .dataframe tbody tr th:only-of-type {\n",
       "        vertical-align: middle;\n",
       "    }\n",
       "\n",
       "    .dataframe tbody tr th {\n",
       "        vertical-align: top;\n",
       "    }\n",
       "\n",
       "    .dataframe thead th {\n",
       "        text-align: right;\n",
       "    }\n",
       "</style>\n",
       "<table border=\"1\" class=\"dataframe\">\n",
       "  <thead>\n",
       "    <tr style=\"text-align: right;\">\n",
       "      <th></th>\n",
       "      <th>variables</th>\n",
       "      <th>VIF</th>\n",
       "    </tr>\n",
       "  </thead>\n",
       "  <tbody>\n",
       "    <tr>\n",
       "      <td>0</td>\n",
       "      <td>miles</td>\n",
       "      <td>5.420745</td>\n",
       "    </tr>\n",
       "    <tr>\n",
       "      <td>1</td>\n",
       "      <td>tax</td>\n",
       "      <td>5.666363</td>\n",
       "    </tr>\n",
       "    <tr>\n",
       "      <td>2</td>\n",
       "      <td>age</td>\n",
       "      <td>6.818953</td>\n",
       "    </tr>\n",
       "    <tr>\n",
       "      <td>3</td>\n",
       "      <td>model_ A Class</td>\n",
       "      <td>2.576008</td>\n",
       "    </tr>\n",
       "    <tr>\n",
       "      <td>4</td>\n",
       "      <td>model_ C Class</td>\n",
       "      <td>3.289499</td>\n",
       "    </tr>\n",
       "    <tr>\n",
       "      <td>5</td>\n",
       "      <td>model_ CL Class</td>\n",
       "      <td>1.293085</td>\n",
       "    </tr>\n",
       "    <tr>\n",
       "      <td>6</td>\n",
       "      <td>model_ CLA Class</td>\n",
       "      <td>1.062131</td>\n",
       "    </tr>\n",
       "    <tr>\n",
       "      <td>7</td>\n",
       "      <td>model_ CLC Class</td>\n",
       "      <td>1.010584</td>\n",
       "    </tr>\n",
       "    <tr>\n",
       "      <td>8</td>\n",
       "      <td>model_ CLK</td>\n",
       "      <td>1.045098</td>\n",
       "    </tr>\n",
       "    <tr>\n",
       "      <td>9</td>\n",
       "      <td>model_ CLS Class</td>\n",
       "      <td>1.263303</td>\n",
       "    </tr>\n",
       "    <tr>\n",
       "      <td>10</td>\n",
       "      <td>model_ E Class</td>\n",
       "      <td>2.711838</td>\n",
       "    </tr>\n",
       "    <tr>\n",
       "      <td>11</td>\n",
       "      <td>model_ G Class</td>\n",
       "      <td>1.027987</td>\n",
       "    </tr>\n",
       "    <tr>\n",
       "      <td>12</td>\n",
       "      <td>model_ GL Class</td>\n",
       "      <td>1.162088</td>\n",
       "    </tr>\n",
       "    <tr>\n",
       "      <td>13</td>\n",
       "      <td>model_ GLA Class</td>\n",
       "      <td>1.605025</td>\n",
       "    </tr>\n",
       "    <tr>\n",
       "      <td>14</td>\n",
       "      <td>model_ GLB Class</td>\n",
       "      <td>1.018897</td>\n",
       "    </tr>\n",
       "    <tr>\n",
       "      <td>15</td>\n",
       "      <td>model_ GLC Class</td>\n",
       "      <td>1.802211</td>\n",
       "    </tr>\n",
       "    <tr>\n",
       "      <td>16</td>\n",
       "      <td>model_ GLE Class</td>\n",
       "      <td>1.529435</td>\n",
       "    </tr>\n",
       "    <tr>\n",
       "      <td>17</td>\n",
       "      <td>model_ GLS Class</td>\n",
       "      <td>1.098694</td>\n",
       "    </tr>\n",
       "    <tr>\n",
       "      <td>18</td>\n",
       "      <td>model_ M Class</td>\n",
       "      <td>1.250133</td>\n",
       "    </tr>\n",
       "    <tr>\n",
       "      <td>19</td>\n",
       "      <td>model_ R Class</td>\n",
       "      <td>1.012720</td>\n",
       "    </tr>\n",
       "    <tr>\n",
       "      <td>20</td>\n",
       "      <td>model_ S Class</td>\n",
       "      <td>1.235685</td>\n",
       "    </tr>\n",
       "    <tr>\n",
       "      <td>21</td>\n",
       "      <td>model_ SL CLASS</td>\n",
       "      <td>1.171814</td>\n",
       "    </tr>\n",
       "    <tr>\n",
       "      <td>22</td>\n",
       "      <td>model_ SLK</td>\n",
       "      <td>1.242040</td>\n",
       "    </tr>\n",
       "    <tr>\n",
       "      <td>23</td>\n",
       "      <td>model_ V Class</td>\n",
       "      <td>1.255104</td>\n",
       "    </tr>\n",
       "    <tr>\n",
       "      <td>24</td>\n",
       "      <td>model_ X-CLASS</td>\n",
       "      <td>1.164552</td>\n",
       "    </tr>\n",
       "    <tr>\n",
       "      <td>25</td>\n",
       "      <td>model_180</td>\n",
       "      <td>1.001631</td>\n",
       "    </tr>\n",
       "    <tr>\n",
       "      <td>26</td>\n",
       "      <td>model_200</td>\n",
       "      <td>1.002029</td>\n",
       "    </tr>\n",
       "    <tr>\n",
       "      <td>27</td>\n",
       "      <td>model_220</td>\n",
       "      <td>1.001238</td>\n",
       "    </tr>\n",
       "    <tr>\n",
       "      <td>28</td>\n",
       "      <td>model_230</td>\n",
       "      <td>NaN</td>\n",
       "    </tr>\n",
       "    <tr>\n",
       "      <td>29</td>\n",
       "      <td>transmission_Automatic</td>\n",
       "      <td>1.860016</td>\n",
       "    </tr>\n",
       "    <tr>\n",
       "      <td>30</td>\n",
       "      <td>transmission_Manual</td>\n",
       "      <td>1.483244</td>\n",
       "    </tr>\n",
       "    <tr>\n",
       "      <td>31</td>\n",
       "      <td>transmission_Other</td>\n",
       "      <td>1.011464</td>\n",
       "    </tr>\n",
       "    <tr>\n",
       "      <td>32</td>\n",
       "      <td>fuelType_Diesel</td>\n",
       "      <td>3.949086</td>\n",
       "    </tr>\n",
       "    <tr>\n",
       "      <td>33</td>\n",
       "      <td>fuelType_Hybrid</td>\n",
       "      <td>1.125647</td>\n",
       "    </tr>\n",
       "    <tr>\n",
       "      <td>34</td>\n",
       "      <td>fuelType_Other</td>\n",
       "      <td>1.007029</td>\n",
       "    </tr>\n",
       "  </tbody>\n",
       "</table>\n",
       "</div>"
      ],
      "text/plain": [
       "                 variables       VIF\n",
       "0                    miles  5.420745\n",
       "1                      tax  5.666363\n",
       "2                      age  6.818953\n",
       "3           model_ A Class  2.576008\n",
       "4           model_ C Class  3.289499\n",
       "5          model_ CL Class  1.293085\n",
       "6         model_ CLA Class  1.062131\n",
       "7         model_ CLC Class  1.010584\n",
       "8               model_ CLK  1.045098\n",
       "9         model_ CLS Class  1.263303\n",
       "10          model_ E Class  2.711838\n",
       "11          model_ G Class  1.027987\n",
       "12         model_ GL Class  1.162088\n",
       "13        model_ GLA Class  1.605025\n",
       "14        model_ GLB Class  1.018897\n",
       "15        model_ GLC Class  1.802211\n",
       "16        model_ GLE Class  1.529435\n",
       "17        model_ GLS Class  1.098694\n",
       "18          model_ M Class  1.250133\n",
       "19          model_ R Class  1.012720\n",
       "20          model_ S Class  1.235685\n",
       "21         model_ SL CLASS  1.171814\n",
       "22              model_ SLK  1.242040\n",
       "23          model_ V Class  1.255104\n",
       "24          model_ X-CLASS  1.164552\n",
       "25               model_180  1.001631\n",
       "26               model_200  1.002029\n",
       "27               model_220  1.001238\n",
       "28               model_230       NaN\n",
       "29  transmission_Automatic  1.860016\n",
       "30     transmission_Manual  1.483244\n",
       "31      transmission_Other  1.011464\n",
       "32         fuelType_Diesel  3.949086\n",
       "33         fuelType_Hybrid  1.125647\n",
       "34          fuelType_Other  1.007029"
      ]
     },
     "execution_count": 27,
     "metadata": {},
     "output_type": "execute_result"
    }
   ],
   "source": [
    "merc_num_3=merc_num_2.drop('engineSize', axis=1)\n",
    "calc_vif(merc_num_3)"
   ]
  },
  {
   "cell_type": "markdown",
   "metadata": {},
   "source": [
    "**So for modelling purposes we will drop - mpg and engineSize**"
   ]
  },
  {
   "cell_type": "markdown",
   "metadata": {},
   "source": [
    "# H. Preparing Data for Model Application"
   ]
  },
  {
   "cell_type": "markdown",
   "metadata": {},
   "source": [
    "### H1. Removing the columns with high multi-collinearity found using VIF analysis"
   ]
  },
  {
   "cell_type": "code",
   "execution_count": 28,
   "metadata": {},
   "outputs": [
    {
     "data": {
      "text/plain": [
       "(12845, 36)"
      ]
     },
     "execution_count": 28,
     "metadata": {},
     "output_type": "execute_result"
    }
   ],
   "source": [
    "merc_dummy2=merc_dummy.drop(['mpg', 'engineSize'], axis=1)\n",
    "merc_dummy2.shape"
   ]
  },
  {
   "cell_type": "markdown",
   "metadata": {},
   "source": [
    "### H2. Splitting data in train & test sets"
   ]
  },
  {
   "cell_type": "code",
   "execution_count": 29,
   "metadata": {},
   "outputs": [],
   "source": [
    "# splitting data into test and train set\n",
    "\n",
    "X = merc_dummy2.drop('price',axis=1)\n",
    "y = merc_dummy2['price']\n",
    "\n",
    "from sklearn.model_selection import train_test_split\n",
    "\n",
    "X_train, X_test, y_train, y_test = train_test_split(X, y, test_size = 0.25, random_state=42)"
   ]
  },
  {
   "cell_type": "markdown",
   "metadata": {},
   "source": [
    "# I. Linear Reg Model"
   ]
  },
  {
   "cell_type": "markdown",
   "metadata": {},
   "source": [
    "## I1. LR Model Run 1"
   ]
  },
  {
   "cell_type": "code",
   "execution_count": 30,
   "metadata": {},
   "outputs": [],
   "source": [
    "from sklearn import datasets, linear_model\n",
    "from sklearn.linear_model import LinearRegression\n",
    "import statsmodels.api as sm\n",
    "from scipy import stats"
   ]
  },
  {
   "cell_type": "code",
   "execution_count": 31,
   "metadata": {},
   "outputs": [
    {
     "name": "stdout",
     "output_type": "stream",
     "text": [
      "                            OLS Regression Results                            \n",
      "==============================================================================\n",
      "Dep. Variable:                  price   R-squared:                       0.606\n",
      "Model:                            OLS   Adj. R-squared:                  0.605\n",
      "Method:                 Least Squares   F-statistic:                     461.7\n",
      "Date:                Sat, 19 Sep 2020   Prob (F-statistic):               0.00\n",
      "Time:                        00:19:37   Log-Likelihood:                -99705.\n",
      "No. Observations:                9633   AIC:                         1.995e+05\n",
      "Df Residuals:                    9600   BIC:                         1.997e+05\n",
      "Df Model:                          32                                         \n",
      "Covariance Type:            nonrobust                                         \n",
      "==========================================================================================\n",
      "                             coef    std err          t      P>|t|      [0.025      0.975]\n",
      "------------------------------------------------------------------------------------------\n",
      "const                    2.85e+04    463.163     61.541      0.000    2.76e+04    2.94e+04\n",
      "miles                     -0.1319      0.006    -22.498      0.000      -0.143      -0.120\n",
      "tax                        3.4494      1.460      2.362      0.018       0.587       6.312\n",
      "age                    -1689.5319     57.456    -29.406      0.000   -1802.157   -1576.906\n",
      "model_ A Class          2194.1438    409.641      5.356      0.000    1391.161    2997.127\n",
      "model_ C Class          5004.6937    398.472     12.560      0.000    4223.605    5785.782\n",
      "model_ CL Class         4093.8415    537.241      7.620      0.000    3040.735    5146.948\n",
      "model_ CLA Class        4284.5953    989.290      4.331      0.000    2345.379    6223.812\n",
      "model_ CLC Class       -1068.0908   7599.423     -0.141      0.888    -1.6e+04    1.38e+04\n",
      "model_ CLK              1.682e+04   3465.031      4.855      0.000       1e+04    2.36e+04\n",
      "model_ CLS Class         1.14e+04    703.575     16.205      0.000       1e+04    1.28e+04\n",
      "model_ E Class          8198.3597    426.605     19.218      0.000    7362.124    9034.595\n",
      "model_ G Class          7.869e+04   2146.910     36.653      0.000    7.45e+04    8.29e+04\n",
      "model_ GL Class         8346.3154    933.877      8.937      0.000    6515.719    1.02e+04\n",
      "model_ GLA Class        3231.7559    479.074      6.746      0.000    2292.669    4170.843\n",
      "model_ GLB Class        1.394e+04   2318.920      6.011      0.000    9393.775    1.85e+04\n",
      "model_ GLC Class         1.27e+04    474.788     26.738      0.000    1.18e+04    1.36e+04\n",
      "model_ GLE Class        2.128e+04    563.820     37.741      0.000    2.02e+04    2.24e+04\n",
      "model_ GLS Class        2.797e+04   1141.530     24.498      0.000    2.57e+04    3.02e+04\n",
      "model_ M Class          1.215e+04   1127.149     10.775      0.000    9935.653    1.44e+04\n",
      "model_ R Class          1.066e+04   7628.623      1.397      0.162   -4296.289    2.56e+04\n",
      "model_ S Class          2.887e+04    747.698     38.611      0.000    2.74e+04    3.03e+04\n",
      "model_ SL CLASS         1.069e+04    671.728     15.919      0.000    9376.218     1.2e+04\n",
      "model_ SLK              6790.6559   1009.719      6.725      0.000    4811.394    8769.918\n",
      "model_ V Class          1.492e+04    721.710     20.675      0.000    1.35e+04    1.63e+04\n",
      "model_ X-CLASS          9014.1804   1076.584      8.373      0.000    6903.849    1.11e+04\n",
      "model_180               5681.8796   7592.363      0.748      0.454   -9200.755    2.06e+04\n",
      "model_200               4006.7279   7592.010      0.528      0.598   -1.09e+04    1.89e+04\n",
      "model_220               1.297e-11   3.99e-12      3.250      0.001    5.15e-12    2.08e-11\n",
      "model_230               8.271e-14   5.24e-13      0.158      0.874   -9.44e-13    1.11e-12\n",
      "transmission_Automatic   289.9278    173.971      1.667      0.096     -51.092     630.947\n",
      "transmission_Manual    -3570.1186    285.897    -12.487      0.000   -4130.538   -3009.700\n",
      "transmission_Other     -1.068e-14   6.64e-15     -1.608      0.108   -2.37e-14    2.34e-15\n",
      "fuelType_Diesel        -4573.2581    200.952    -22.758      0.000   -4967.167   -4179.349\n",
      "fuelType_Hybrid        -2461.9025    725.370     -3.394      0.001   -3883.781   -1040.024\n",
      "fuelType_Other         -2062.7197   3404.613     -0.606      0.545   -8736.481    4611.041\n",
      "==============================================================================\n",
      "Omnibus:                     9876.971   Durbin-Watson:                   2.010\n",
      "Prob(Omnibus):                  0.000   Jarque-Bera (JB):          1099729.617\n",
      "Skew:                           4.881   Prob(JB):                         0.00\n",
      "Kurtosis:                      54.426   Cond. No.                     1.38e+16\n",
      "==============================================================================\n",
      "\n",
      "Warnings:\n",
      "[1] Standard Errors assume that the covariance matrix of the errors is correctly specified.\n",
      "[2] The smallest eigenvalue is 4.71e-20. This might indicate that there are\n",
      "strong multicollinearity problems or that the design matrix is singular.\n"
     ]
    },
    {
     "name": "stderr",
     "output_type": "stream",
     "text": [
      "C:\\Users\\drric\\Anaconda3\\lib\\site-packages\\numpy\\core\\fromnumeric.py:2389: FutureWarning: Method .ptp is deprecated and will be removed in a future version. Use numpy.ptp instead.\n",
      "  return ptp(axis=axis, out=out, **kwargs)\n"
     ]
    }
   ],
   "source": [
    "# OLS Model\n",
    "X2 = sm.add_constant(X_train)\n",
    "est = sm.OLS(y_train, X2)\n",
    "LR_1 = est.fit()\n",
    "print(LR_1.summary())"
   ]
  },
  {
   "cell_type": "markdown",
   "metadata": {},
   "source": [
    "### RESIDUAL ANALYSIS - Checking Normal Distribution of residuals using Q-Q Plot"
   ]
  },
  {
   "cell_type": "code",
   "execution_count": 32,
   "metadata": {},
   "outputs": [
    {
     "data": {
      "image/png": "[encoded data removed]",
      "text/plain": [
       "<Figure size 432x288 with 1 Axes>"
      ]
     },
     "metadata": {
      "needs_background": "light"
     },
     "output_type": "display_data"
    }
   ],
   "source": [
    "res = LR_1.resid # residuals\n",
    "\n",
    "import statistics\n",
    "std = statistics.stdev(res)\n",
    "\n",
    "fig = sm.qqplot(res/std, line='s')\n",
    "plt.show()"
   ]
  },
  {
   "cell_type": "markdown",
   "metadata": {},
   "source": [
    "From the above figure, we see that points in middle lie to close to the 45-degree line with major deviations ends. We can say that distrbution of residuals is not Normal Distribution and has major deviation."
   ]
  },
  {
   "cell_type": "markdown",
   "metadata": {},
   "source": [
    "### RESIDUAL ANALYSIS - Plot of 'Residuals' vs 'Fitted Values' to check for Heteroscedasticity"
   ]
  },
  {
   "cell_type": "code",
   "execution_count": 33,
   "metadata": {},
   "outputs": [],
   "source": [
    "Train_data = X_train.copy()\n",
    "Train_data['price']=y_train\n",
    "\n",
    "ypred = LR_1.predict(X2) # training set predictions\n",
    "\n",
    "Train_data['pred_price_LR1']=ypred\n",
    "Train_data['residual_LR1'] = res\n",
    "Train_data['studentized_residual_LR1'] = res/std\n",
    "Train_data['absolute_residual_LR1'] = abs(res)"
   ]
  },
  {
   "cell_type": "code",
   "execution_count": 34,
   "metadata": {
    "scrolled": true
   },
   "outputs": [
    {
     "data": {
      "text/html": [
       "<div>\n",
       "<style scoped>\n",
       "    .dataframe tbody tr th:only-of-type {\n",
       "        vertical-align: middle;\n",
       "    }\n",
       "\n",
       "    .dataframe tbody tr th {\n",
       "        vertical-align: top;\n",
       "    }\n",
       "\n",
       "    .dataframe thead th {\n",
       "        text-align: right;\n",
       "    }\n",
       "</style>\n",
       "<table border=\"1\" class=\"dataframe\">\n",
       "  <thead>\n",
       "    <tr style=\"text-align: right;\">\n",
       "      <th></th>\n",
       "      <th>miles</th>\n",
       "      <th>tax</th>\n",
       "      <th>age</th>\n",
       "      <th>model_ A Class</th>\n",
       "      <th>model_ C Class</th>\n",
       "      <th>model_ CL Class</th>\n",
       "      <th>model_ CLA Class</th>\n",
       "      <th>model_ CLC Class</th>\n",
       "      <th>model_ CLK</th>\n",
       "      <th>model_ CLS Class</th>\n",
       "      <th>...</th>\n",
       "      <th>transmission_Manual</th>\n",
       "      <th>transmission_Other</th>\n",
       "      <th>fuelType_Diesel</th>\n",
       "      <th>fuelType_Hybrid</th>\n",
       "      <th>fuelType_Other</th>\n",
       "      <th>price</th>\n",
       "      <th>pred_price_LR1</th>\n",
       "      <th>residual_LR1</th>\n",
       "      <th>studentized_residual_LR1</th>\n",
       "      <th>absolute_residual_LR1</th>\n",
       "    </tr>\n",
       "  </thead>\n",
       "  <tbody>\n",
       "    <tr>\n",
       "      <td>1489</td>\n",
       "      <td>10839</td>\n",
       "      <td>145</td>\n",
       "      <td>3</td>\n",
       "      <td>1</td>\n",
       "      <td>0</td>\n",
       "      <td>0</td>\n",
       "      <td>0</td>\n",
       "      <td>0</td>\n",
       "      <td>0</td>\n",
       "      <td>0</td>\n",
       "      <td>...</td>\n",
       "      <td>0</td>\n",
       "      <td>0</td>\n",
       "      <td>0</td>\n",
       "      <td>0</td>\n",
       "      <td>0</td>\n",
       "      <td>15995</td>\n",
       "      <td>24699.91175</td>\n",
       "      <td>-8704.91175</td>\n",
       "      <td>-1.150474</td>\n",
       "      <td>8704.91175</td>\n",
       "    </tr>\n",
       "  </tbody>\n",
       "</table>\n",
       "<p>1 rows × 40 columns</p>\n",
       "</div>"
      ],
      "text/plain": [
       "      miles  tax  age  model_ A Class  model_ C Class  model_ CL Class  \\\n",
       "1489  10839  145    3               1               0                0   \n",
       "\n",
       "      model_ CLA Class  model_ CLC Class  model_ CLK  model_ CLS Class  ...  \\\n",
       "1489                 0                 0           0                 0  ...   \n",
       "\n",
       "      transmission_Manual  transmission_Other  fuelType_Diesel  \\\n",
       "1489                    0                   0                0   \n",
       "\n",
       "      fuelType_Hybrid  fuelType_Other  price  pred_price_LR1  residual_LR1  \\\n",
       "1489                0               0  15995     24699.91175   -8704.91175   \n",
       "\n",
       "      studentized_residual_LR1  absolute_residual_LR1  \n",
       "1489                 -1.150474             8704.91175  \n",
       "\n",
       "[1 rows x 40 columns]"
      ]
     },
     "execution_count": 34,
     "metadata": {},
     "output_type": "execute_result"
    }
   ],
   "source": [
    "Train_data.head(1)"
   ]
  },
  {
   "cell_type": "code",
   "execution_count": 35,
   "metadata": {},
   "outputs": [
    {
     "data": {
      "text/plain": [
       "<seaborn.axisgrid.JointGrid at 0x173d0dc7088>"
      ]
     },
     "execution_count": 35,
     "metadata": {},
     "output_type": "execute_result"
    },
    {
     "data": {
      "image/png": "[encoded data removed]",
      "text/plain": [
       "<Figure size 432x432 with 3 Axes>"
      ]
     },
     "metadata": {
      "needs_background": "light"
     },
     "output_type": "display_data"
    }
   ],
   "source": [
    "sns.jointplot(x='pred_price_LR1',y='studentized_residual_LR1',data=Train_data,kind='scatter')"
   ]
  },
  {
   "cell_type": "markdown",
   "metadata": {},
   "source": [
    "### The above plot indicates \n",
    "\n",
    "- Presence of **HETEROSCEDASTICITY** and this needs to be addressed in order to further improve model performance.\n",
    "\n",
    "- Presence of **OUTLIERS** (Studentized Residual values greater than 3 indicate outliers.)"
   ]
  },
  {
   "cell_type": "markdown",
   "metadata": {},
   "source": [
    "## I2. Addressing outliers and heteroscedastcity observed above "
   ]
  },
  {
   "cell_type": "markdown",
   "metadata": {},
   "source": [
    "### OUTLIERS - Remove records where Studentized_Residual > 3"
   ]
  },
  {
   "cell_type": "code",
   "execution_count": 36,
   "metadata": {},
   "outputs": [
    {
     "data": {
      "text/plain": [
       "2.9835787787532624"
      ]
     },
     "execution_count": 36,
     "metadata": {},
     "output_type": "execute_result"
    }
   ],
   "source": [
    "Train_data=Train_data[Train_data['studentized_residual_LR1']<=3]\n",
    "Train_data['studentized_residual_LR1'].max()"
   ]
  },
  {
   "cell_type": "code",
   "execution_count": 37,
   "metadata": {},
   "outputs": [
    {
     "data": {
      "text/plain": [
       "(9517, 40)"
      ]
     },
     "execution_count": 37,
     "metadata": {},
     "output_type": "execute_result"
    }
   ],
   "source": [
    "Train_data.shape"
   ]
  },
  {
   "cell_type": "code",
   "execution_count": 38,
   "metadata": {},
   "outputs": [
    {
     "data": {
      "text/plain": [
       "(9633, 35)"
      ]
     },
     "execution_count": 38,
     "metadata": {},
     "output_type": "execute_result"
    }
   ],
   "source": [
    "X_train.shape"
   ]
  },
  {
   "cell_type": "markdown",
   "metadata": {},
   "source": [
    "9633-9517=116 outliers removed"
   ]
  },
  {
   "cell_type": "markdown",
   "metadata": {},
   "source": [
    "### HETEROSCEDASTICITY - Taking log of dependent variable and then running OLS helps in dampening effect of Heteroscdasticity"
   ]
  },
  {
   "cell_type": "code",
   "execution_count": 39,
   "metadata": {},
   "outputs": [
    {
     "data": {
      "text/html": [
       "<div>\n",
       "<style scoped>\n",
       "    .dataframe tbody tr th:only-of-type {\n",
       "        vertical-align: middle;\n",
       "    }\n",
       "\n",
       "    .dataframe tbody tr th {\n",
       "        vertical-align: top;\n",
       "    }\n",
       "\n",
       "    .dataframe thead th {\n",
       "        text-align: right;\n",
       "    }\n",
       "</style>\n",
       "<table border=\"1\" class=\"dataframe\">\n",
       "  <thead>\n",
       "    <tr style=\"text-align: right;\">\n",
       "      <th></th>\n",
       "      <th>miles</th>\n",
       "      <th>tax</th>\n",
       "      <th>age</th>\n",
       "      <th>model_ A Class</th>\n",
       "      <th>model_ C Class</th>\n",
       "      <th>model_ CL Class</th>\n",
       "      <th>model_ CLA Class</th>\n",
       "      <th>model_ CLC Class</th>\n",
       "      <th>model_ CLK</th>\n",
       "      <th>model_ CLS Class</th>\n",
       "      <th>...</th>\n",
       "      <th>transmission_Other</th>\n",
       "      <th>fuelType_Diesel</th>\n",
       "      <th>fuelType_Hybrid</th>\n",
       "      <th>fuelType_Other</th>\n",
       "      <th>price</th>\n",
       "      <th>pred_price_LR1</th>\n",
       "      <th>residual_LR1</th>\n",
       "      <th>studentized_residual_LR1</th>\n",
       "      <th>absolute_residual_LR1</th>\n",
       "      <th>log_price</th>\n",
       "    </tr>\n",
       "  </thead>\n",
       "  <tbody>\n",
       "    <tr>\n",
       "      <td>1489</td>\n",
       "      <td>10839</td>\n",
       "      <td>145</td>\n",
       "      <td>3</td>\n",
       "      <td>1</td>\n",
       "      <td>0</td>\n",
       "      <td>0</td>\n",
       "      <td>0</td>\n",
       "      <td>0</td>\n",
       "      <td>0</td>\n",
       "      <td>0</td>\n",
       "      <td>...</td>\n",
       "      <td>0</td>\n",
       "      <td>0</td>\n",
       "      <td>0</td>\n",
       "      <td>0</td>\n",
       "      <td>15995</td>\n",
       "      <td>24699.91175</td>\n",
       "      <td>-8704.91175</td>\n",
       "      <td>-1.150474</td>\n",
       "      <td>8704.91175</td>\n",
       "      <td>9.680031</td>\n",
       "    </tr>\n",
       "  </tbody>\n",
       "</table>\n",
       "<p>1 rows × 41 columns</p>\n",
       "</div>"
      ],
      "text/plain": [
       "      miles  tax  age  model_ A Class  model_ C Class  model_ CL Class  \\\n",
       "1489  10839  145    3               1               0                0   \n",
       "\n",
       "      model_ CLA Class  model_ CLC Class  model_ CLK  model_ CLS Class  ...  \\\n",
       "1489                 0                 0           0                 0  ...   \n",
       "\n",
       "      transmission_Other  fuelType_Diesel  fuelType_Hybrid  fuelType_Other  \\\n",
       "1489                   0                0                0               0   \n",
       "\n",
       "      price  pred_price_LR1  residual_LR1  studentized_residual_LR1  \\\n",
       "1489  15995     24699.91175   -8704.91175                 -1.150474   \n",
       "\n",
       "      absolute_residual_LR1  log_price  \n",
       "1489             8704.91175   9.680031  \n",
       "\n",
       "[1 rows x 41 columns]"
      ]
     },
     "execution_count": 39,
     "metadata": {},
     "output_type": "execute_result"
    }
   ],
   "source": [
    "import math\n",
    "Train_data['log_price'] = Train_data['price'].apply(math.log)\n",
    "Train_data.head(1)"
   ]
  },
  {
   "cell_type": "markdown",
   "metadata": {},
   "source": [
    "## I3. LR Model Run 2 - After addressing outliers & heteroscedasticity"
   ]
  },
  {
   "cell_type": "code",
   "execution_count": 40,
   "metadata": {},
   "outputs": [],
   "source": [
    "X_train = Train_data.drop(['price','log_price','pred_price_LR1','residual_LR1','studentized_residual_LR1','absolute_residual_LR1'], axis=1)\n",
    "y_train_log = Train_data['log_price']"
   ]
  },
  {
   "cell_type": "code",
   "execution_count": 41,
   "metadata": {},
   "outputs": [
    {
     "name": "stdout",
     "output_type": "stream",
     "text": [
      "                            OLS Regression Results                            \n",
      "==============================================================================\n",
      "Dep. Variable:              log_price   R-squared:                       0.842\n",
      "Model:                            OLS   Adj. R-squared:                  0.841\n",
      "Method:                 Least Squares   F-statistic:                     1578.\n",
      "Date:                Sat, 19 Sep 2020   Prob (F-statistic):               0.00\n",
      "Time:                        00:19:40   Log-Likelihood:                 3635.5\n",
      "No. Observations:                9517   AIC:                            -7205.\n",
      "Df Residuals:                    9484   BIC:                            -6969.\n",
      "Df Model:                          32                                         \n",
      "Covariance Type:            nonrobust                                         \n",
      "==========================================================================================\n",
      "                             coef    std err          t      P>|t|      [0.025      0.975]\n",
      "------------------------------------------------------------------------------------------\n",
      "const                     10.1392      0.010    995.635      0.000      10.119      10.159\n",
      "miles                  -5.656e-06    1.3e-07    -43.565      0.000   -5.91e-06    -5.4e-06\n",
      "tax                        0.0003   3.23e-05      8.788      0.000       0.000       0.000\n",
      "age                       -0.0926      0.001    -73.175      0.000      -0.095      -0.090\n",
      "model_ A Class             0.0733      0.009      8.181      0.000       0.056       0.091\n",
      "model_ C Class             0.2368      0.009     27.203      0.000       0.220       0.254\n",
      "model_ CL Class            0.2487      0.012     21.211      0.000       0.226       0.272\n",
      "model_ CLA Class           0.2535      0.022     11.740      0.000       0.211       0.296\n",
      "model_ CLC Class          -0.3445      0.166     -2.077      0.038      -0.670      -0.019\n",
      "model_ CLK                -0.0330      0.076     -0.436      0.663      -0.181       0.115\n",
      "model_ CLS Class           0.4593      0.015     29.828      0.000       0.429       0.489\n",
      "model_ E Class             0.3324      0.009     35.641      0.000       0.314       0.351\n",
      "model_ G Class             1.4504      0.060     24.321      0.000       1.333       1.567\n",
      "model_ GL Class            0.4039      0.020     19.806      0.000       0.364       0.444\n",
      "model_ GLA Class           0.1986      0.010     18.992      0.000       0.178       0.219\n",
      "model_ GLB Class           0.4439      0.051      8.769      0.000       0.345       0.543\n",
      "model_ GLC Class           0.5020      0.010     48.274      0.000       0.482       0.522\n",
      "model_ GLE Class           0.7290      0.012     58.973      0.000       0.705       0.753\n",
      "model_ GLS Class           0.9007      0.025     35.815      0.000       0.851       0.950\n",
      "model_ M Class             0.5108      0.025     20.601      0.000       0.462       0.559\n",
      "model_ R Class             0.1618      0.167      0.972      0.331      -0.165       0.488\n",
      "model_ S Class             0.8251      0.017     48.179      0.000       0.792       0.859\n",
      "model_ SL CLASS            0.4065      0.015     27.263      0.000       0.377       0.436\n",
      "model_ SLK                 0.1407      0.022      6.380      0.000       0.098       0.184\n",
      "model_ V Class             0.5291      0.016     33.496      0.000       0.498       0.560\n",
      "model_ X-CLASS             0.3520      0.024     14.970      0.000       0.306       0.398\n",
      "model_180                  0.1335      0.166      0.806      0.420      -0.191       0.458\n",
      "model_200                  0.1817      0.166      1.097      0.273      -0.143       0.507\n",
      "model_220              -3.113e-16   4.37e-17     -7.126      0.000   -3.97e-16   -2.26e-16\n",
      "model_230              -4.675e-18   1.25e-17     -0.374      0.708   -2.92e-17    1.98e-17\n",
      "transmission_Automatic    -0.0055      0.004     -1.440      0.150      -0.013       0.002\n",
      "transmission_Manual       -0.1476      0.006    -23.600      0.000      -0.160      -0.135\n",
      "transmission_Other     -3.576e-25   2.76e-25     -1.295      0.195   -8.99e-25    1.84e-25\n",
      "fuelType_Diesel           -0.0658      0.004    -14.752      0.000      -0.075      -0.057\n",
      "fuelType_Hybrid            0.0462      0.016      2.908      0.004       0.015       0.077\n",
      "fuelType_Other             0.0473      0.074      0.636      0.525      -0.098       0.193\n",
      "==============================================================================\n",
      "Omnibus:                      996.950   Durbin-Watson:                   2.021\n",
      "Prob(Omnibus):                  0.000   Jarque-Bera (JB):             4945.802\n",
      "Skew:                           0.394   Prob(JB):                         0.00\n",
      "Kurtosis:                       6.443   Cond. No.                     1.37e+16\n",
      "==============================================================================\n",
      "\n",
      "Warnings:\n",
      "[1] Standard Errors assume that the covariance matrix of the errors is correctly specified.\n",
      "[2] The smallest eigenvalue is 4.73e-20. This might indicate that there are\n",
      "strong multicollinearity problems or that the design matrix is singular.\n"
     ]
    }
   ],
   "source": [
    "# OLS model\n",
    "X2 = sm.add_constant(X_train)\n",
    "est = sm.OLS(y_train_log, X2)\n",
    "LR2 = est.fit()\n",
    "print(LR2.summary())"
   ]
  },
  {
   "cell_type": "markdown",
   "metadata": {},
   "source": [
    "### RESIDUAL ANALYSIS - Checking Normal Distribution of residuals using Q-Q Plot"
   ]
  },
  {
   "cell_type": "code",
   "execution_count": 42,
   "metadata": {},
   "outputs": [
    {
     "data": {
      "image/png": "[encoded data removed]",
      "text/plain": [
       "<Figure size 432x288 with 1 Axes>"
      ]
     },
     "metadata": {
      "needs_background": "light"
     },
     "output_type": "display_data"
    }
   ],
   "source": [
    "res = LR2.resid # residuals\n",
    "\n",
    "import statistics\n",
    "std = statistics.stdev(res)\n",
    "\n",
    "fig = sm.qqplot(res/std, line='s')\n",
    "plt.show()"
   ]
  },
  {
   "cell_type": "markdown",
   "metadata": {},
   "source": [
    "The distribution of residuals is closer to normal distribution compared to last model, but is still not normally distributed "
   ]
  },
  {
   "cell_type": "markdown",
   "metadata": {},
   "source": [
    "### RESIDUAL ANALYSIS - Plot of 'Residuals' vs 'Fitted Values' to check for Heteroscedasticity"
   ]
  },
  {
   "cell_type": "code",
   "execution_count": 43,
   "metadata": {},
   "outputs": [],
   "source": [
    "ypred = LR2.predict(X2) # training set predictions\n",
    "\n",
    "Train_data['log_pred_price']=ypred\n",
    "Train_data['act_pred_price_LR2']=np.exp(ypred)\n",
    "Train_data['residual_lg'] = res\n",
    "Train_data['studentized_residual_lg'] = res/std\n",
    "Train_data['absolute_residual_lg'] = abs(res)"
   ]
  },
  {
   "cell_type": "code",
   "execution_count": 44,
   "metadata": {},
   "outputs": [
    {
     "data": {
      "text/plain": [
       "<seaborn.axisgrid.JointGrid at 0x173d0ccc088>"
      ]
     },
     "execution_count": 44,
     "metadata": {},
     "output_type": "execute_result"
    },
    {
     "data": {
      "image/png": "[encoded data removed]",
      "text/plain": [
       "<Figure size 432x432 with 3 Axes>"
      ]
     },
     "metadata": {
      "needs_background": "light"
     },
     "output_type": "display_data"
    }
   ],
   "source": [
    "sns.jointplot(x='log_pred_price',y='studentized_residual_lg',data=Train_data,kind='scatter')"
   ]
  },
  {
   "cell_type": "markdown",
   "metadata": {},
   "source": [
    "Here we see that taking Log(price) has dampened the heteroskedasticty. Above plot shows lesser extent of heteroscedasticity compared to earlier model."
   ]
  },
  {
   "cell_type": "markdown",
   "metadata": {},
   "source": [
    "## I4. LR Model Run 3 : After removing the 8 insignificant predictors "
   ]
  },
  {
   "cell_type": "code",
   "execution_count": 45,
   "metadata": {},
   "outputs": [
    {
     "data": {
      "text/html": [
       "<div>\n",
       "<style scoped>\n",
       "    .dataframe tbody tr th:only-of-type {\n",
       "        vertical-align: middle;\n",
       "    }\n",
       "\n",
       "    .dataframe tbody tr th {\n",
       "        vertical-align: top;\n",
       "    }\n",
       "\n",
       "    .dataframe thead th {\n",
       "        text-align: right;\n",
       "    }\n",
       "</style>\n",
       "<table border=\"1\" class=\"dataframe\">\n",
       "  <thead>\n",
       "    <tr style=\"text-align: right;\">\n",
       "      <th></th>\n",
       "      <th>miles</th>\n",
       "      <th>tax</th>\n",
       "      <th>age</th>\n",
       "      <th>model_ A Class</th>\n",
       "      <th>model_ C Class</th>\n",
       "      <th>model_ CL Class</th>\n",
       "      <th>model_ CLA Class</th>\n",
       "      <th>model_ CLC Class</th>\n",
       "      <th>model_ CLK</th>\n",
       "      <th>model_ CLS Class</th>\n",
       "      <th>...</th>\n",
       "      <th>pred_price_LR1</th>\n",
       "      <th>residual_LR1</th>\n",
       "      <th>studentized_residual_LR1</th>\n",
       "      <th>absolute_residual_LR1</th>\n",
       "      <th>log_price</th>\n",
       "      <th>log_pred_price</th>\n",
       "      <th>act_pred_price_LR2</th>\n",
       "      <th>residual_lg</th>\n",
       "      <th>studentized_residual_lg</th>\n",
       "      <th>absolute_residual_lg</th>\n",
       "    </tr>\n",
       "  </thead>\n",
       "  <tbody>\n",
       "    <tr>\n",
       "      <td>1489</td>\n",
       "      <td>10839</td>\n",
       "      <td>145</td>\n",
       "      <td>3</td>\n",
       "      <td>1</td>\n",
       "      <td>0</td>\n",
       "      <td>0</td>\n",
       "      <td>0</td>\n",
       "      <td>0</td>\n",
       "      <td>0</td>\n",
       "      <td>0</td>\n",
       "      <td>...</td>\n",
       "      <td>24699.91175</td>\n",
       "      <td>-8704.91175</td>\n",
       "      <td>-1.150474</td>\n",
       "      <td>8704.91175</td>\n",
       "      <td>9.680031</td>\n",
       "      <td>9.914394</td>\n",
       "      <td>20219.331608</td>\n",
       "      <td>-0.234363</td>\n",
       "      <td>-1.419069</td>\n",
       "      <td>0.234363</td>\n",
       "    </tr>\n",
       "  </tbody>\n",
       "</table>\n",
       "<p>1 rows × 46 columns</p>\n",
       "</div>"
      ],
      "text/plain": [
       "      miles  tax  age  model_ A Class  model_ C Class  model_ CL Class  \\\n",
       "1489  10839  145    3               1               0                0   \n",
       "\n",
       "      model_ CLA Class  model_ CLC Class  model_ CLK  model_ CLS Class  ...  \\\n",
       "1489                 0                 0           0                 0  ...   \n",
       "\n",
       "      pred_price_LR1  residual_LR1  studentized_residual_LR1  \\\n",
       "1489     24699.91175   -8704.91175                 -1.150474   \n",
       "\n",
       "      absolute_residual_LR1  log_price  log_pred_price  act_pred_price_LR2  \\\n",
       "1489             8704.91175   9.680031        9.914394        20219.331608   \n",
       "\n",
       "      residual_lg  studentized_residual_lg  absolute_residual_lg  \n",
       "1489    -0.234363                -1.419069              0.234363  \n",
       "\n",
       "[1 rows x 46 columns]"
      ]
     },
     "execution_count": 45,
     "metadata": {},
     "output_type": "execute_result"
    }
   ],
   "source": [
    "Train_data.head(1)"
   ]
  },
  {
   "cell_type": "code",
   "execution_count": 46,
   "metadata": {},
   "outputs": [
    {
     "name": "stdout",
     "output_type": "stream",
     "text": [
      "                            OLS Regression Results                            \n",
      "==============================================================================\n",
      "Dep. Variable:              log_price   R-squared:                       0.842\n",
      "Model:                            OLS   Adj. R-squared:                  0.841\n",
      "Method:                 Least Squares   F-statistic:                     1942.\n",
      "Date:                Sat, 19 Sep 2020   Prob (F-statistic):               0.00\n",
      "Time:                        00:19:42   Log-Likelihood:                 3632.8\n",
      "No. Observations:                9517   AIC:                            -7212.\n",
      "Df Residuals:                    9490   BIC:                            -7018.\n",
      "Df Model:                          26                                         \n",
      "Covariance Type:            nonrobust                                         \n",
      "=======================================================================================\n",
      "                          coef    std err          t      P>|t|      [0.025      0.975]\n",
      "---------------------------------------------------------------------------------------\n",
      "const                  10.1382      0.010   1003.046      0.000      10.118      10.158\n",
      "miles               -5.668e-06   1.29e-07    -43.809      0.000   -5.92e-06   -5.41e-06\n",
      "tax                     0.0003   3.21e-05      8.840      0.000       0.000       0.000\n",
      "age                    -0.0928      0.001    -74.343      0.000      -0.095      -0.090\n",
      "model_ A Class          0.0726      0.009      8.164      0.000       0.055       0.090\n",
      "model_ C Class          0.2362      0.009     27.352      0.000       0.219       0.253\n",
      "model_ CL Class         0.2486      0.012     21.310      0.000       0.226       0.272\n",
      "model_ CLA Class        0.2504      0.022     11.646      0.000       0.208       0.293\n",
      "model_ CLC Class       -0.3467      0.166     -2.090      0.037      -0.672      -0.022\n",
      "model_ CLS Class        0.4587      0.015     29.897      0.000       0.429       0.489\n",
      "model_ E Class          0.3319      0.009     35.859      0.000       0.314       0.350\n",
      "model_ G Class          1.4491      0.060     24.317      0.000       1.332       1.566\n",
      "model_ GL Class         0.4013      0.020     19.770      0.000       0.361       0.441\n",
      "model_ GLA Class        0.1985      0.010     19.117      0.000       0.178       0.219\n",
      "model_ GLB Class        0.4438      0.051      8.770      0.000       0.345       0.543\n",
      "model_ GLC Class        0.5016      0.010     48.513      0.000       0.481       0.522\n",
      "model_ GLE Class        0.7288      0.012     59.302      0.000       0.705       0.753\n",
      "model_ GLS Class        0.8989      0.025     35.805      0.000       0.850       0.948\n",
      "model_ M Class          0.5105      0.025     20.676      0.000       0.462       0.559\n",
      "model_ S Class          0.8239      0.017     48.284      0.000       0.790       0.857\n",
      "model_ SL CLASS         0.4057      0.015     27.310      0.000       0.377       0.435\n",
      "model_ SLK              0.1401      0.022      6.392      0.000       0.097       0.183\n",
      "model_ V Class          0.5272      0.016     33.500      0.000       0.496       0.558\n",
      "model_ X-CLASS          0.3479      0.023     14.894      0.000       0.302       0.394\n",
      "model_220             1.51e-16   1.34e-17     11.252      0.000    1.25e-16    1.77e-16\n",
      "transmission_Manual    -0.1448      0.006    -24.152      0.000      -0.157      -0.133\n",
      "fuelType_Diesel        -0.0657      0.004    -14.778      0.000      -0.074      -0.057\n",
      "fuelType_Hybrid         0.0453      0.016      2.857      0.004       0.014       0.076\n",
      "==============================================================================\n",
      "Omnibus:                      992.726   Durbin-Watson:                   2.021\n",
      "Prob(Omnibus):                  0.000   Jarque-Bera (JB):             4917.558\n",
      "Skew:                           0.392   Prob(JB):                         0.00\n",
      "Kurtosis:                       6.433   Cond. No.                     1.37e+16\n",
      "==============================================================================\n",
      "\n",
      "Warnings:\n",
      "[1] Standard Errors assume that the covariance matrix of the errors is correctly specified.\n",
      "[2] The smallest eigenvalue is 4.73e-20. This might indicate that there are\n",
      "strong multicollinearity problems or that the design matrix is singular.\n"
     ]
    }
   ],
   "source": [
    "X_train_log = Train_data.drop(['price', 'log_price','log_pred_price','act_pred_price_LR2','residual_lg','studentized_residual_lg', 'absolute_residual_lg', 'pred_price_LR1', 'residual_LR1','studentized_residual_LR1', 'absolute_residual_LR1', 'model_ CLK','model_ R Class','model_180','model_200', 'model_230','transmission_Automatic','transmission_Other','fuelType_Other'], axis=1)\n",
    "y_train_log = Train_data['log_price']\n",
    "\n",
    "# OLS model\n",
    "X2 = sm.add_constant(X_train_log)\n",
    "est = sm.OLS(y_train_log, X2)\n",
    "LR2 = est.fit()\n",
    "print(LR2.summary())"
   ]
  },
  {
   "cell_type": "code",
   "execution_count": 47,
   "metadata": {},
   "outputs": [],
   "source": [
    "# dropping insignificant columns from test set\n",
    "from sklearn.metrics import mean_squared_error \n",
    "from math import sqrt\n",
    "\n",
    "X_test_minimal = X_test.drop(['model_ CLK','model_ R Class','model_180','model_200', 'model_230','transmission_Automatic','transmission_Other','fuelType_Other'], axis=1)"
   ]
  },
  {
   "cell_type": "code",
   "execution_count": 48,
   "metadata": {},
   "outputs": [
    {
     "name": "stdout",
     "output_type": "stream",
     "text": [
      "RMSE of the LR model is  6341.744678715268\n"
     ]
    }
   ],
   "source": [
    "# running the model on test dataset to and finding RMSE\n",
    "X2 = sm.add_constant(X_test_minimal)\n",
    "ypred = LR2.predict(X2)\n",
    "ypred_actual = np.exp(ypred)\n",
    "\n",
    "RMSE = sqrt(mean_squared_error(y_test,ypred_actual))\n",
    "print('RMSE of the LR model is ', RMSE)"
   ]
  },
  {
   "cell_type": "markdown",
   "metadata": {},
   "source": [
    "### Next steps in Linear Regression \n",
    "Perform step-wise regression with the predictor variables left to find optimum number of features. This could also help in further reducing multi-collinearity."
   ]
  },
  {
   "cell_type": "markdown",
   "metadata": {},
   "source": [
    "# J. Decision Tree Regressor"
   ]
  },
  {
   "cell_type": "markdown",
   "metadata": {},
   "source": [
    "Taking all features into consideration"
   ]
  },
  {
   "cell_type": "code",
   "execution_count": 49,
   "metadata": {},
   "outputs": [],
   "source": [
    "# splitting data into test and train set\n",
    "\n",
    "X = merc_dummy.drop('price',axis=1)\n",
    "y = merc_dummy['price']\n",
    "\n",
    "from sklearn.model_selection import train_test_split\n",
    "\n",
    "X_train, X_test, y_train, y_test = train_test_split(X, y, test_size = 0.25, random_state=42)"
   ]
  },
  {
   "cell_type": "code",
   "execution_count": 50,
   "metadata": {},
   "outputs": [
    {
     "data": {
      "text/plain": [
       "DecisionTreeRegressor(max_depth=13, random_state=42)"
      ]
     },
     "execution_count": 50,
     "metadata": {},
     "output_type": "execute_result"
    }
   ],
   "source": [
    "# using GridSearchCV to find optimum depth parameters for decision tree\n",
    "from sklearn.model_selection import GridSearchCV\n",
    "from sklearn.tree import DecisionTreeRegressor  as DTR \n",
    "\n",
    "params = {'max_depth': range(1,21)}\n",
    "\n",
    "grid_search_cv = GridSearchCV(DTR(random_state=42), param_grid = params, cv=5)\n",
    "grid_search_cv.fit(X_train, y_train)\n",
    "\n",
    "DTR_best = grid_search_cv.best_estimator_\n",
    "DTR_best"
   ]
  },
  {
   "cell_type": "code",
   "execution_count": 51,
   "metadata": {},
   "outputs": [
    {
     "name": "stdout",
     "output_type": "stream",
     "text": [
      "RMSE of DTR model is  3240.6100104879374\n",
      "R2 of DTR model:  0.9181377509435393\n"
     ]
    }
   ],
   "source": [
    "# RMSE on Test Set\n",
    "pred = DTR_best.predict(X_test) #make prediction on test set\n",
    "RMSE = sqrt(mean_squared_error(y_test,pred)) #calculate rmse\n",
    "print('RMSE of DTR model is ',RMSE)\n",
    "print(\"R2 of DTR model: \", DTR_best.score(X_test, y_test))"
   ]
  },
  {
   "cell_type": "code",
   "execution_count": 52,
   "metadata": {},
   "outputs": [
    {
     "data": {
      "text/plain": [
       "(array([ 0,  1,  2,  3,  4,  5,  6,  7,  8,  9, 10, 11, 12, 13, 14, 15, 16,\n",
       "        17, 18, 19, 20, 21, 22, 23, 24, 25, 26, 27, 28, 29, 30, 31, 32, 33,\n",
       "        34, 35, 36]), <a list of 37 Text xticklabel objects>)"
      ]
     },
     "execution_count": 52,
     "metadata": {},
     "output_type": "execute_result"
    },
    {
     "data": {
      "image/png": "[encoded data removed]",
      "text/plain": [
       "<Figure size 1080x288 with 1 Axes>"
      ]
     },
     "metadata": {
      "needs_background": "light"
     },
     "output_type": "display_data"
    }
   ],
   "source": [
    "# Plotting the feature importance as given by DTR\n",
    "feature_imp = pd.Series(DTR_best.feature_importances_,index=X_train.columns).sort_values(ascending=False)\n",
    "fig_dims = (15, 4)\n",
    "fig, ax = plt.subplots(figsize=fig_dims)\n",
    "sns.barplot(y = feature_imp, x = feature_imp.index, ax=ax)\n",
    "plt.xticks(rotation=90)"
   ]
  },
  {
   "cell_type": "markdown",
   "metadata": {},
   "source": [
    "# K. Random Forest Model"
   ]
  },
  {
   "cell_type": "markdown",
   "metadata": {},
   "source": [
    "Taking all predictor variables as Random Forest Model is robust to multi-collinearity"
   ]
  },
  {
   "cell_type": "code",
   "execution_count": 53,
   "metadata": {},
   "outputs": [
    {
     "data": {
      "text/plain": [
       "RandomForestRegressor(max_depth=18, max_features=22, random_state=42)"
      ]
     },
     "execution_count": 53,
     "metadata": {},
     "output_type": "execute_result"
    }
   ],
   "source": [
    "# using GridSearchCV to find optimum depth parameters for RFR\n",
    "from sklearn.ensemble import RandomForestRegressor as RFR\n",
    "\n",
    "# default n_estimators =100 which we are using here\n",
    "params = {'max_depth': range(2,20), 'max_features': range(2,24,2)}\n",
    "\n",
    "grid_search_cv = GridSearchCV(RFR(random_state=42), param_grid = params, cv=5)\n",
    "grid_search_cv.fit(X_train, y_train)\n",
    "\n",
    "RF = grid_search_cv.best_estimator_\n",
    "RF"
   ]
  },
  {
   "cell_type": "code",
   "execution_count": 54,
   "metadata": {},
   "outputs": [
    {
     "name": "stdout",
     "output_type": "stream",
     "text": [
      "RMSE of RF model is  2448.047973698058\n",
      "R2 of RF model:  0.9532835339607117\n"
     ]
    }
   ],
   "source": [
    "# error on Test Set\n",
    "pred = RF.predict(X_test) #make prediction on test set\n",
    "RMSE = sqrt(mean_squared_error(y_test,pred)) #calculate rmse\n",
    "print('RMSE of RF model is ', RMSE)\n",
    "print(\"R2 of RF model: \", RF.score(X_test, y_test))"
   ]
  },
  {
   "cell_type": "code",
   "execution_count": 55,
   "metadata": {},
   "outputs": [
    {
     "data": {
      "text/plain": [
       "(array([ 0,  1,  2,  3,  4,  5,  6,  7,  8,  9, 10, 11, 12, 13, 14, 15, 16,\n",
       "        17, 18, 19, 20, 21, 22, 23, 24, 25, 26, 27, 28, 29, 30, 31, 32, 33,\n",
       "        34, 35, 36]), <a list of 37 Text xticklabel objects>)"
      ]
     },
     "execution_count": 55,
     "metadata": {},
     "output_type": "execute_result"
    },
    {
     "data": {
      "image/png": "[encoded data removed]",
      "text/plain": [
       "<Figure size 1080x288 with 1 Axes>"
      ]
     },
     "metadata": {
      "needs_background": "light"
     },
     "output_type": "display_data"
    }
   ],
   "source": [
    "# checking feature importance score in random forest model\n",
    "\n",
    "feature_imp = pd.Series(RF.feature_importances_,index=X_train.columns).sort_values(ascending=False)\n",
    "fig_dims = (15, 4)\n",
    "fig, ax = plt.subplots(figsize=fig_dims)\n",
    "sns.barplot(y = feature_imp, x = feature_imp.index, ax=ax)\n",
    "plt.xticks(rotation=90)"
   ]
  },
  {
   "cell_type": "markdown",
   "metadata": {},
   "source": [
    "# L. Model Selection :"
   ]
  },
  {
   "cell_type": "code",
   "execution_count": 56,
   "metadata": {},
   "outputs": [
    {
     "data": {
      "text/html": [
       "<div>\n",
       "<style scoped>\n",
       "    .dataframe tbody tr th:only-of-type {\n",
       "        vertical-align: middle;\n",
       "    }\n",
       "\n",
       "    .dataframe tbody tr th {\n",
       "        vertical-align: top;\n",
       "    }\n",
       "\n",
       "    .dataframe thead th {\n",
       "        text-align: right;\n",
       "    }\n",
       "</style>\n",
       "<table border=\"1\" class=\"dataframe\">\n",
       "  <thead>\n",
       "    <tr style=\"text-align: right;\">\n",
       "      <th></th>\n",
       "      <th>model</th>\n",
       "      <th>RMSE</th>\n",
       "      <th>R2</th>\n",
       "    </tr>\n",
       "  </thead>\n",
       "  <tbody>\n",
       "    <tr>\n",
       "      <td>0</td>\n",
       "      <td>LR</td>\n",
       "      <td>6341.744</td>\n",
       "      <td>0.84</td>\n",
       "    </tr>\n",
       "    <tr>\n",
       "      <td>1</td>\n",
       "      <td>DTR</td>\n",
       "      <td>3240.610</td>\n",
       "      <td>0.92</td>\n",
       "    </tr>\n",
       "    <tr>\n",
       "      <td>2</td>\n",
       "      <td>RFR</td>\n",
       "      <td>2448.047</td>\n",
       "      <td>0.95</td>\n",
       "    </tr>\n",
       "  </tbody>\n",
       "</table>\n",
       "</div>"
      ],
      "text/plain": [
       "  model      RMSE    R2\n",
       "0    LR  6341.744  0.84\n",
       "1   DTR  3240.610  0.92\n",
       "2   RFR  2448.047  0.95"
      ]
     },
     "execution_count": 56,
     "metadata": {},
     "output_type": "execute_result"
    }
   ],
   "source": [
    "model = ['LR', 'DTR', 'RFR']\n",
    "RMSE = [6341.744, 3240.610, 2448.047]\n",
    "R2 = [0.84,0.92,0.95]\n",
    "model_outcome = pd.DataFrame({'model':model, 'RMSE':RMSE, 'R2' : R2})\n",
    "model_outcome"
   ]
  },
  {
   "cell_type": "markdown",
   "metadata": {},
   "source": [
    "We are getting the lowest error by using the Random Forest Model, hence it should be selected out of all 3."
   ]
  }
 ],
 "metadata": {
  "kernelspec": {
   "display_name": "Python 3",
   "language": "python",
   "name": "python3"
  },
  "language_info": {
   "codemirror_mode": {
    "name": "ipython",
    "version": 3
   },
   "file_extension": ".py",
   "mimetype": "text/x-python",
   "name": "python",
   "nbconvert_exporter": "python",
   "pygments_lexer": "ipython3",
   "version": "3.7.4"
  }
 },
 "nbformat": 4,
 "nbformat_minor": 2
}
